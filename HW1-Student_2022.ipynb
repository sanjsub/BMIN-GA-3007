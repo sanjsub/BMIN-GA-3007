{
 "cells": [
  {
   "cell_type": "markdown",
   "id": "cf0abe9c-30b2-4513-8527-60b549430ecf",
   "metadata": {},
   "source": [
    "# Deep Learning in Medicine\n",
    "### BMSC-GA 4493, BMIN-GA 3007 \n",
    "### Spring 2022\n",
    "### Homework 1\n",
    "### Sanjay Subramanian"
   ]
  },
  {
   "cell_type": "markdown",
   "id": "d4081173-2a9d-45e1-8779-aeb58b61ae91",
   "metadata": {},
   "source": [
    "**Learning Objectives**:\n",
    "\n",
    "1. Basic Math Revision.\n",
    "2. Introduction to Machine Learning.\n",
    "3. Logistic Regression Model.\n",
    "4. Multi-layer Perceptron Model."
   ]
  },
  {
   "cell_type": "markdown",
   "id": "a76a86b1-d8c7-444e-b0a4-3064ffd979cc",
   "metadata": {},
   "source": [
    "**Instruction** \n",
    "\n",
    "1. If you need to write mathematical terms, you can type your answeres in a Markdown Cell via LaTex. See: <a href=\"https://stackoverflow.com/questions/13208286/how-to-write-latex-in-ipython-notebook\">here</a> if you have issues with writing equations. To see basic LaTex notation see: <a href=\"https://en.wikibooks.org/wiki/LaTeX/Mathematics\"> here </a>.\n",
    "\n",
    "2. Upload and Submit your final jupyter notebook file on <a href='https://brightspace.nyu.edu/d2l/home/158477'>Brightspace</a>\n",
    "\n",
    "3. **Deadline: Thursday Feb 17th 2021****\n",
    "\n",
    "4. ***HW submission instructions:*** Students should submit a zipped folder named ***netid***_hw***x*** where x is the homework number . The submission should consist of jupyter notebook with all the plots and expected outputs clearly visible in it. The zipped folder should also contain the data files. We should be able to run your ipynb without making directory changes. Not following the protocol might lead to deduction of scores."
   ]
  },
  {
   "cell_type": "markdown",
   "id": "4203b91d-8e1d-430c-9690-eebd306420cb",
   "metadata": {},
   "source": [
    "---\n",
    "# Question 1: Math and Machine Learning Revision (20 points)\n",
    "\n",
    "- ### Take derivatives (partial derivatives wherever required) of functions from 1.1 to 1.8 (16 points)\n",
    "- ### Derive appropriate loss for 1.9 (4 points)\n"
   ]
  },
  {
   "cell_type": "markdown",
   "id": "de2abe1c-29d7-420f-a8aa-29567327118e",
   "metadata": {},
   "source": [
    "### 1.1. (2 point)\n",
    "$f(x) = \\frac{1}{\\sqrt{3-x}}$\n",
    "\n",
    "$f'(x) = \\frac{1}{2(3-x)^{3/2}}$"
   ]
  },
  {
   "cell_type": "markdown",
   "id": "ecc181c9-a8c7-482f-acf7-01101f50d9b5",
   "metadata": {},
   "source": [
    "### 1.2. (2 point)\n",
    "$f(x) = e^xx^3$\n",
    "\n",
    "$f'(x) = e^xx^2(x+3)$"
   ]
  },
  {
   "cell_type": "markdown",
   "id": "d1425b8e-8ac8-4a5e-8ee2-a525fe933f0e",
   "metadata": {},
   "source": [
    "### 1.3. (2 point)\n",
    "$f(x) = \\frac{e^x + \\sin x}{1+\\log x}$\n",
    "\n",
    "$f'(x) = \\frac{e^x + \\cos x}{1+\\log x} - \\frac{e^x + \\sin x}{x(1+\\log x)^2}$"
   ]
  },
  {
   "cell_type": "markdown",
   "id": "70a39fca-e55d-4ef1-9591-8a1b789db63c",
   "metadata": {},
   "source": [
    "### 1.4. (2 point)\n",
    "$f(x) = \\tanh x$\n",
    "\n",
    "$f'(x) = sech^2 x$"
   ]
  },
  {
   "cell_type": "markdown",
   "id": "719cc158-3adc-4424-b060-cef6ed03afd1",
   "metadata": {},
   "source": [
    "### 1.7. (4 point)\n",
    "$f(A,X) = \\sum_{i=1}^5 \\ln (\\frac{1}{a_ix_i^3})$\n",
    "\n",
    "where $A = (a_1, a_2, a_3, a_4, a_5)$ and $X = (x_1, x_2, x_3, x_4, x_5)$ (You can give expression of $\\frac{d}{dx_i} f(A,X)$ as well)\n",
    "\n",
    "$\\frac{d}{dx_i} f(A,X) = \\frac{-3}{x_i}$\n",
    "\n",
    "$\\frac{d}{da_i} f(A,X) = \\frac{-1}{a_i}$"
   ]
  },
  {
   "cell_type": "markdown",
   "id": "d04376be-5f49-44a9-8e7d-cf31d3ef2a85",
   "metadata": {},
   "source": [
    "### 1.8. (4 point)\n",
    "$f(A,X) = \\sum_{i=1}^{100} (\\frac{1}{3x_i + e^{-b_ix_i}})$\n",
    "\n",
    "where $A = (a_1, ..., a_{100})$ and $X = (x_1, ..., x_{100})$ (You can give expression of $\\frac{d}{dx_i}$\n",
    "\n",
    "$\\frac{d}{dx_i} f(A,X) = \\frac{-3-a_ie^{-a_ix_i}}{({3x+e^{-a_ix_i}})^2}$\n",
    "\n",
    "$\\frac{d}{da_i} f(A,X) = \\frac{x_ie^{-a_ix_i}}{({3x+e^{-a_ix_i}})^2}$"
   ]
  },
  {
   "cell_type": "markdown",
   "id": "3e7937ec-d25a-46ab-ac82-37694dc1dc09",
   "metadata": {},
   "source": [
    "### 1.9.  Loss Functions (2 + 2 points)\n",
    "Mammography is one of the most effective method for breast cancer screening. However, the low positive predictive value of breast biopsy resulting from mammogram interpretation might lead to unnecessary biopsies with benign outcomes. To reduce the high number of unnecessary breast biopsies, you have been assigned to develop a machine learning model that will act as a computer-aided diagnosis (CAD) system. \n",
    "\n",
    "To help physicians in their decision to perform a breast biopsy on a suspicious lesion or to perform a short term follow-up examination, your model should identify the mammographic mass lesion as Benign(0)/Malign(1) given its BI-RADS attributes\n"
   ]
  },
  {
   "cell_type": "markdown",
   "id": "ae440289-5b29-40c4-af47-9ac396a0e180",
   "metadata": {},
   "source": [
    "#### 1.9.a What kind of supervised learning problem would you consider? Express your model's probability for one observation $p(y|x)$? Give expression of log probability as well\n",
    "\n",
    "We consider this a binary classification problem"
   ]
  },
  {
   "cell_type": "markdown",
   "id": "56a78623-e51a-48a3-aa46-624da1d66d25",
   "metadata": {},
   "source": [
    "#### 1.9.b You want to design a loss function that prefers the correct output of the training examples to be more likely. \n",
    "\n",
    "#### Derive a loss function that would allow you to choose parameters $w,b$ of your model that maximize a likelihood that does that. Give explaination would such a loss function be good choice in terms of parameter updation.\n",
    "\n",
    "*Hint:* Think about the expression from the previous part."
   ]
  },
  {
   "cell_type": "markdown",
   "id": "cfa90fb5-bc6a-418e-9724-a779146a67ce",
   "metadata": {},
   "source": [
    "---\n",
    "# Question 2: Solving Linear Regression via Mean Squared Error (MSE) Optimization Problem (30 points)"
   ]
  },
  {
   "cell_type": "markdown",
   "id": "f804e3e1-9d45-42c4-9b91-26b43dd7002a",
   "metadata": {},
   "source": [
    "Imagine that you have measured two variables X and Y, for a simple task, and you belive that they might be linearly related to each other. Here, our input X has 2 dimensions, and the output has 1 dimension. We will use super-script to indicate which sample it is, and sub-scipt to indicate which dimension it is. \n",
    "The measurements are as follows:\n",
    "\n",
    "###### (Training data D = {($X^1$, $Y^1$), ($X^2$, $Y^2$), ($X^3$, $Y^3$)})\n",
    "\n",
    "Sample 1: $X^1 = (x_1^1, x_2^1) = (1, 1)$,   $Y^1$ = 2\n",
    "\n",
    "Sample 2: $X^2 = (x_1^2, x_2^2) = (1, 2)$,   $Y^2$ = 4\n",
    "\n",
    "Sample 3: $X^3 = (x_1^3, x_2^3) = (2, 2)$,   $Y^3$ = 5\n",
    "\n",
    "If we assume that the relationship between X and Y is linear, we can write this relationship as:If we assume that the relationship between X and Y is linear, we can write this relationship as:"
   ]
  },
  {
   "cell_type": "markdown",
   "id": "949a4a5c-5631-43c0-a3b2-4d2e1ffff3da",
   "metadata": {},
   "source": [
    "$Y = f_{W,B}(X) = WX + B = w_1*x_1 + w_2*x_2 + B$"
   ]
  },
  {
   "cell_type": "markdown",
   "id": "8812d9e5-070f-4208-a867-c7cce6a89e57",
   "metadata": {},
   "source": [
    "where $W = (w_1, w_2)$ and $B$ are the parameters of the model.\t\n",
    "We are interested in finding best values for W and B.\t\n",
    "We define 'best' in terms of a loss function between $f_{W,b}(X_i)$ and $Y_i$ for each ($X_i$ and $Y_i$) in the training data. \t\n",
    "Since $Y_i$s are real numbers, let's consider Mean Squared Error loss. "
   ]
  },
  {
   "cell_type": "markdown",
   "id": "759cd032-8275-4db6-8f1b-45f9c913c956",
   "metadata": {},
   "source": [
    "Remember that Mean Squared Error for this function, over training data, and W and B is:\n",
    "\n",
    "$MSELoss(D={(X_1, Y_1), (X_2, Y_2), (X_3, Y_3)}), W, B) = \\frac{1}{3}\\sum_{i=1}^{3} (f_{W,B}(X_i) - Y_i)^2 $"
   ]
  },
  {
   "cell_type": "markdown",
   "id": "68bc1d53-1dfc-4496-a793-df9793c77b58",
   "metadata": {},
   "source": [
    "### 2.1. (3 points)\n",
    "Compute the partial derivative of $MESLoss(D, W, B)$, With respect to W and B.\t\n",
    "Remember that $X_1$, $X_2$, $X_3$, $Y_1$, $Y_2$, and $Y_3$ are constants, and already given to us as training data above.\n",
    "\n",
    "$\\frac{d}{d w_1} MSELoss(D, W, B) = \\frac{2x_{1i}}{3} \\sum_{i=1}^{3}(w_1*x_{1i}+w_2*x_{2i}+B-Y_i)$\n",
    "\n",
    "$\\frac{d}{d w_2} MSELoss(D, W, B) = \\frac{2x_{2i}}{3} \\sum_{i=1}^{3}(w_1*x_{1i}+w_2*x_{2i}+B-Y_i)$\n",
    "\n",
    "$\\frac{d}{d B} MSELoss(D, W, B) = \\frac{2}{3} \\sum_{i=1}^{3}(w_1*x_{1i}+w_2*x_{2i}+B-Y_i)$"
   ]
  },
  {
   "cell_type": "markdown",
   "id": "4d66dbd0-4cb8-488e-ac61-86913b3c70db",
   "metadata": {},
   "source": [
    "### 2.2. (3 points)\n",
    "Use matplotlib library and plot $\\frac{d}{d w1} MSELoss(D, W, B)$ for $w_1 = np.arange(0, 5, 0.5)$, when $w_2$ equals 4, and B equals to -2.\n",
    "\n",
    "$\\frac{d}{d w_1} MSELoss(D, W, B) = \\frac{2x_{1i}}{3} \\sum_{i=1}^{3}(w_1*x_{1i}+w_2*x_{2i}+B-Y_i)$\n",
    "\n",
    "$\\frac{d}{d w_1} MSELoss(D, W, B) = \\frac{2}{3} \\sum_{i=1}^{3}(w_1*x_{1i}^2+w_2*x_{2i}*x_{1i}+B*x_{1i}-Y_i*x_{1i})$\n",
    "\n",
    "$\\frac{d}{d w_1} MSELoss(D, W, B) = \\frac{2}{3} (w_1*((x_{11}^2)+(x_{12}^2)+(x_{13}^2))+w_2*((x_{11}*x_{21})+(x_{12}*x_{22})+(x_{13}*x_{23}))+B*(x_{11}+x_{12}+x_{13})-(Y_1*x_{11}+Y_2*x_{12}+Y_3*x_{13}))$\n",
    "\n",
    "$\\frac{d}{d w_1} MSELoss(D, W, B) = \\frac{2}{3} (w_1*((1^2)+(1^2)+(2^2))+4*((1*1)+(1*2)+(2*2))-2*(1+1+2)-(2*1+4*1+5*2))$\n",
    "\n",
    "$\\frac{d}{d w_1} MSELoss(D, W, B) = \\frac{2}{3} (6w_1-4)$"
   ]
  },
  {
   "cell_type": "code",
   "execution_count": 1,
   "id": "64b68628-8d2c-4b70-a8b2-51b9cddd8095",
   "metadata": {},
   "outputs": [
    {
     "data": {
      "text/plain": [
       "[<matplotlib.lines.Line2D at 0x204161a5bb0>]"
      ]
     },
     "execution_count": 1,
     "metadata": {},
     "output_type": "execute_result"
    },
    {
     "data": {
      "image/png": "[encoded data removed]",
      "text/plain": [
       "<Figure size 432x288 with 1 Axes>"
      ]
     },
     "metadata": {
      "needs_background": "light"
     },
     "output_type": "display_data"
    }
   ],
   "source": [
    "import matplotlib.pyplot as plt\n",
    "import numpy as np\n",
    "w1 = np.arange(0, 5, 0.5)\n",
    "w2 = 4\n",
    "b = -2\n",
    "\n",
    "(x11, x21) = (1,1)\n",
    "(x12, x22) = (1,2)\n",
    "(x13, x23) = (2,2)\n",
    "(y1, y2, y3) = (2,4,5)\n",
    "\n",
    "points = []\n",
    "for i in w1:\n",
    "    points.append(2/3*(6*i-4))\n",
    "\n",
    "# plot dMSELoss/dw1 here:\n",
    "plt.plot(w1, points)"
   ]
  },
  {
   "cell_type": "markdown",
   "id": "51a817d3-ceff-4ddb-9098-22ca0360ad3d",
   "metadata": {},
   "source": [
    "### 2.3. (4 points)\n",
    "What values of $w_1$, $w_2$ and $B$, make all partial derivatives zero?\n",
    "\n",
    "$\\frac{d}{d w_1} MSELoss(D, W, B) = \\frac{2}{3} \\sum_{i=1}^{3}(w_1*x_{1i}^2+w_2*x_{2i}*x_{1i}+B*x_{1i}-Y_i*x_{1i})$\n",
    "\n",
    "$ = \\frac{2}{3} ((w_1+w_2+B-Y_1)+(w_1+2w_2+B-Y_2)+(4w_1+4w_2+2B-2Y_3))$\n",
    "\n",
    "$ = \\frac{2}{3} (6w_1+7w_2+4B-Y_1-Y_2-2Y_3) = \\frac{2}{3} (6w_1+7w_2+4B+12) $\n",
    "\n",
    "\n",
    "$\\frac{d}{d w_2} MSELoss(D, W, B) = \\frac{2}{3} \\sum_{i=1}^{3}(w_1*x_{1i}*x_{2i}+w_2*x_{2i}^2+B*x_{2i}-Y_i*x_{2i})$\n",
    "\n",
    "$ = \\frac{2}{3} ((w_1+w_2+B-Y_1)+(w_1+2w_2+B-Y_2)+(4w_1+4w_2+2B-2Y_3))$\n",
    "\n",
    "$ = \\frac{2}{3} (7w_1+9w_2+5B-Y_1-2Y_2-2Y_3) = \\frac{2}{3} (7w_1+9w_2+5B+16)$\n",
    "\n",
    "\n",
    "$\\frac{d}{d B} MSELoss(D, W, B) = \\frac{2}{3} \\sum_{i=1}^{3}(w_1*x_{1i}+w_2*x_{2i}+B-Y_i)$\n",
    "\n",
    "$ = \\frac{2}{3} ((w_1+w_2+B-Y_1)+(w_1+2w_2+B-Y_2)+(2w_1+2w_2+B-Y_3))$\n",
    "\n",
    "$ = \\frac{2}{3} (4w_1+5w_2+3B-Y_1-Y_2-Y_3) = \\frac{2}{3} (4w_1+5w_2+3B+7)$\n",
    "\n",
    "Solving the above system of equations, we get values of $w_1 = -1, w_2 = -6, B = 9$"
   ]
  },
  {
   "cell_type": "markdown",
   "id": "2b299a1e-f912-4960-b349-ea51180543af",
   "metadata": {},
   "source": [
    "### 2.4) (10 points) \n",
    "If you start from an initial point $w_1^0 = 0.1$ , $w_2^0 = 0.1$ and $B^0 = 0.1$, and iteratively update your $w_1$, $w_2$, and B via gradient descent as follows:\n",
    "    \n",
    "$ w_1^{t+1} = w_1^t - 0.01 * \\frac{d}{d w_1} MSELoss(D, W, B) |_{w_1^t,w_2^t,B^t} $\t\n",
    "$ w_2^{t+1} = w_2^t - 0.01 * \\frac{d}{d w_2} MSELoss(D, W, B) |_{w_1^t,w_2^t,B^t} $\t\n",
    "$ B^{t+1} = B^t - 0.01 * \\frac{d}{d B} MSELoss(D, W, B) |_{w_1^t,w_2^t,B^t} $\n",
    "(Note: This is gradient descent with a 0.01 learning rate.)\n",
    "\n",
    "What are the values of Ws and B over iterations 0 to 2000? (Don't compute by hand! Write a code!)\n",
    "Write a python script that computes these values for 2000 iterations, i.e. lists of $\\{w_1^0, w^1_1,.., w_1^{2000}\\}$, $\\{w_2^0, w_2^1,.., w_2^{2000}\\}$, and $\\{B^0, B^1,.., B^{2000}\\}$.\t\n",
    "Plot the lists of $w_1$s, $w_2$s and Bs over 2000 iterations."
   ]
  },
  {
   "cell_type": "code",
   "execution_count": 21,
   "id": "430459fb",
   "metadata": {},
   "outputs": [
    {
     "data": {
      "image/png": "[encoded data removed]",
      "text/plain": [
       "<Figure size 720x432 with 1 Axes>"
      ]
     },
     "metadata": {
      "needs_background": "light"
     },
     "output_type": "display_data"
    }
   ],
   "source": [
    "w1, w2, b = np.zeros(2001), np.zeros(2001), np.zeros(2001)\n",
    "w1[0], w2[0], b[0] = 0.1, 0.1, 0.1\n",
    "\n",
    "(x11, x21) = (1,1)\n",
    "(x12, x22) = (1,2)\n",
    "(x13, x23) = (2,2)\n",
    "(y1, y2, y3) = (2,4,5)\n",
    "\n",
    "for i in range(1,2001):\n",
    "    w1[i], w2[i], b[i] = w1[i-1], w2[i-1], b[i-1]\n",
    "    for j in range(1,4):\n",
    "        w1[i] = w1[i] - 0.01 * (2/3)*eval('x1'+str(j))*(w1[i-1]*eval('x1'+str(j)) + w2[i-1]*eval('x2'+str(j)) + b[i-1] - eval('y'+str(j)))\n",
    "        w2[i] = w2[i] - 0.01 * (2/3)*eval('x2'+str(j))*(w1[i-1]*eval('x1'+str(j)) + w2[i-1]*eval('x2'+str(j)) + b[i-1] - eval('y'+str(j)))\n",
    "        b[i] = b[i] - 0.01 * (2/3)*(w1[i-1]*eval('x1'+str(j)) + w2[i-1]*eval('x2'+str(j)) + b[i-1] - eval('y'+str(j)))\n",
    "\n",
    "plt.figure(figsize = (10, 6))\n",
    "plt.plot(w1, label = 'w1')\n",
    "plt.plot(w2, label = 'w2')\n",
    "plt.plot(b, label = 'b')\n",
    "plt.title('Parameter updates over 2000 iterations'), plt.ylabel('Values'), plt.xlabel('Iterations')\n",
    "plt.legend()\n",
    "plt.show()"
   ]
  },
  {
   "cell_type": "markdown",
   "id": "cebd9631-9e48-46fa-a475-063b22d7ee98",
   "metadata": {},
   "source": [
    "### 2.5. (10 points)\n",
    "Now that you learned the math and made the code yourself, we will use pytorch and automatic differentiation, to find optimal W and B!\t\n",
    "Again, consider data to be D = {($X_1$, $Y_1$), ($X_2$, $Y_2$), ($X_3$, $Y_3$)}) = {((2,2), 5), ((2,7), 3), ((-1,0), 1)}.\n",
    "\n",
    "Some of your steps are here. Fill in the rest and show a plot of the loss function, $w_1$, $w_2$ and B over these 2000 epochs."
   ]
  },
  {
   "cell_type": "code",
   "execution_count": 28,
   "id": "50b479f7-cba3-40c9-8786-ffb505b8a003",
   "metadata": {},
   "outputs": [
    {
     "name": "stdout",
     "output_type": "stream",
     "text": [
      "data X is: [(1, 1), (1, 2), (2, 2)]\n",
      "data Y is: [2, 4, 5]\n"
     ]
    },
    {
     "data": {
      "image/png": "[encoded data removed]",
      "text/plain": [
       "<Figure size 432x288 with 1 Axes>"
      ]
     },
     "metadata": {
      "needs_background": "light"
     },
     "output_type": "display_data"
    },
    {
     "data": {
      "image/png": "[encoded data removed]",
      "text/plain": [
       "<Figure size 432x288 with 1 Axes>"
      ]
     },
     "metadata": {
      "needs_background": "light"
     },
     "output_type": "display_data"
    },
    {
     "data": {
      "image/png": "[encoded data removed]",
      "text/plain": [
       "<Figure size 432x288 with 1 Axes>"
      ]
     },
     "metadata": {
      "needs_background": "light"
     },
     "output_type": "display_data"
    },
    {
     "data": {
      "image/png": "[encoded data removed]",
      "text/plain": [
       "<Figure size 432x288 with 1 Axes>"
      ]
     },
     "metadata": {
      "needs_background": "light"
     },
     "output_type": "display_data"
    }
   ],
   "source": [
    "import torch\n",
    "import torch.nn as nn\n",
    "import numpy as np\n",
    "from torch import optim\n",
    "from torch.autograd import Variable\n",
    "from sklearn.utils import shuffle\n",
    "\n",
    "D = [((1,1), 2), ((1,2), 4), ((2,2),5)]\n",
    "X = [d[0] for d in D]\n",
    "Y = [d[1] for d in D]\n",
    "print('data X is:', X)\n",
    "print('data Y is:', Y)\n",
    "\n",
    "model = torch.nn.Linear(2, 1, bias=True)\n",
    "optimizer = optim.SGD(model.parameters(), lr=0.01)\n",
    "loss = torch.nn.MSELoss()\n",
    "\n",
    "losslist = []\n",
    "w1list = []\n",
    "w2list = []\n",
    "blist = []\n",
    "\n",
    "# for epoch in range(10):\n",
    "for i in range(10):\n",
    "    # Shuffle your training data samples\n",
    "    X,Y = shuffle(X,Y)\n",
    "    X = np.array(X)\n",
    "    Y = np.array(Y)\n",
    "    # Loop over your training data in the new order:\n",
    "    for j in X:\n",
    "        #dont forget to: optimizer.zero_grad()\n",
    "        optimizer.zero_grad()\n",
    "        #prepare your x_input and y_target if needed\n",
    "        x_input = torch.from_numpy(X).type(torch.FloatTensor)\n",
    "        y_target = torch.from_numpy(Y).type(torch.FloatTensor)\n",
    "        #send the data through your model: i.e. pred_i = model(x_input)\n",
    "        model.train()\n",
    "        pred_i = model.forward(x_input)\n",
    "        #send the prediction through the loss function too: i.e. lossout= loss(pred_i, y_target)\n",
    "        lossout = loss(pred_i, y_target)\n",
    "        #call backward to back-propagate: i.e. lossout.backward()\n",
    "        lossout.backward()\n",
    "        #call optimizer.step() to update the model parameters based on the computed gradients\n",
    "        optimizer.step()\n",
    "        #keep the w1s, w2s, and bs, and loss value some list so you can plot them later\n",
    "        w = model.weight.data.numpy().flatten()\n",
    "        b = model.bias.data.numpy()[0]\n",
    "        w1list.append(w[0])\n",
    "        w2list.append(w[1])\n",
    "        blist.append(b)\n",
    "        losslist.append(lossout.data.numpy())\n",
    "\n",
    "#plot the losslist, w1s, w2s, and bs.\n",
    "plt.plot(losslist, label = 'MSE Loss')\n",
    "plt.ylabel('Loss')\n",
    "plt.xlabel('Iteration')\n",
    "plt.title('Loss Update')\n",
    "plt.legend()\n",
    "plt.show()\n",
    "\n",
    "plt.plot(w1list, label = 'w1')\n",
    "plt.ylabel('w1')\n",
    "plt.xlabel('Iteration')\n",
    "plt.title('w1 Update')\n",
    "plt.legend()\n",
    "plt.show()\n",
    "\n",
    "plt.plot(w2list, label = 'w2')\n",
    "plt.ylabel('w2')\n",
    "plt.xlabel('Iteration')\n",
    "plt.title('w2 Update')\n",
    "plt.legend()\n",
    "plt.show()\n",
    "\n",
    "plt.plot(blist, label = 'b')\n",
    "plt.ylabel('b')\n",
    "plt.xlabel('Iteration')\n",
    "plt.title('b Update')\n",
    "plt.legend()\n",
    "plt.show()"
   ]
  },
  {
   "cell_type": "markdown",
   "id": "434c27b9-8d47-47c6-9a38-491ca66949dd",
   "metadata": {},
   "source": [
    "---\n",
    "# Question 3: Learning Curves, Overfitting, and Machine Learning (50 points + Bonus)"
   ]
  },
  {
   "cell_type": "markdown",
   "id": "6c53b583-2fd0-40de-ab90-4b7bb3f30066",
   "metadata": {},
   "source": [
    "Now we know how to optimize, let's get some real machine learning done!\t\n",
    "\n",
    "Instead of the small dataset we had in questions 2, now let's use the the CBIS-DDSM (Curated Breast Imaging Subset of DDSM) dataset from <a href=\"https://wiki.cancerimagingarchive.net/display/Public/CBIS-DDSM#385f2cd4e86f4142b1d32bdb5803bd96\"> here</a>\n",
    "\n",
    "\n",
    "In this homework, we will *only* focus on the following items in the dataset:\t\n",
    "**Mass-Training-Description (csv)**\t\n",
    "**Mass-Test-Description (csv)**\t\n",
    "<p><strong style=\"color: red;\">(Don't download the images data! They are not required for this homework)</strong></p>\n",
    "\n",
    "This dataset contains several features related to Mammography and detection of breast cancer. \n",
    "\n",
    "The **Mass-Training-Description** and **Mass-Test-Description** include many columns but we are interested in following input variables only:\n",
    "\n",
    "- `mass shape`\n",
    "- `mass margins`\n",
    "- `left or right breast`\n",
    "- `abnormality type`\n",
    "- `abnormality id`\n",
    "- `breast_density`\n",
    "- `image view`\n",
    "\n",
    "How well can we predict the **pathology type**?\n"
   ]
  },
  {
   "cell_type": "markdown",
   "id": "95abd405-0d15-40c1-afdd-c177b76f19d6",
   "metadata": {},
   "source": [
    "### 3.1. (5 points) Preparing data\n",
    "\n",
    "Read the data and map to a form of $(X,Y)$\n",
    "\n",
    "i.e. matrix $X$ and a vector $Y$, where each row of $X(x_1,x_2,...,x_i)$ are input variables of a patient, and each row of $Y(y_1,y_2,...,y_i)$ is the pathology type class, for that patient. \n",
    "\n",
    "Map your categorical string to an Indicator variable. Are your classes balanced? Pandas has a neat functionalities for both these use cases."
   ]
  },
  {
   "cell_type": "code",
   "execution_count": 101,
   "id": "2f4f53d8",
   "metadata": {},
   "outputs": [],
   "source": [
    "import pandas as pd\n",
    "columns = ['mass shape','mass margins','left or right breast','abnormality type','abnormality id','breast_density','image view']\n",
    "train = pd.read_csv('mass_case_description_train_set.csv')\n",
    "X_train = train[columns]\n",
    "y_train = train['pathology']\n",
    "\n",
    "test = pd.read_csv('mass_case_description_test_set.csv')\n",
    "X_test = test[columns]\n",
    "y_test = test['pathology']"
   ]
  },
  {
   "cell_type": "code",
   "execution_count": 102,
   "id": "f13827e9",
   "metadata": {},
   "outputs": [],
   "source": [
    "concat = pd.concat([X_train, X_test])\n",
    "dummies = pd.get_dummies(concat, columns = columns)\n",
    "X_train = dummies.iloc[:1318,:]\n",
    "X_test = dummies.iloc[1318:,:]"
   ]
  },
  {
   "cell_type": "code",
   "execution_count": 143,
   "id": "3b4fa5c0",
   "metadata": {},
   "outputs": [],
   "source": [
    "from sklearn import preprocessing\n",
    "le = preprocessing.LabelEncoder()\n",
    "yconcat = pd.concat([y_train, y_test])\n",
    "le.fit(yconcat)\n",
    "yconcat = le.transform(yconcat)\n",
    "y_train = pd.DataFrame(yconcat[:1318])\n",
    "y_test = pd.DataFrame(yconcat[1318:])"
   ]
  },
  {
   "cell_type": "markdown",
   "id": "3840d78f-362a-4e6e-9cb8-113cea3b2dd0",
   "metadata": {},
   "source": [
    "### 3.2. (5 points) Preparing dataset\n",
    "\n",
    "Map the $(X,Y)$ to a mini-batch setting coherent with `torch.utils.data.Dataset` and `torch.utils.data.Dataset`."
   ]
  },
  {
   "cell_type": "code",
   "execution_count": 164,
   "id": "60ead01a-42a5-4486-aab4-e591c3472174",
   "metadata": {},
   "outputs": [],
   "source": [
    "import torch\n",
    "import torch.nn as nn\n",
    "import torch.nn.functional as F\n",
    "import numpy as np\n",
    "from torch import optim\n",
    "from torch.utils.data import Dataset,DataLoader\n",
    "from tqdm import trange\n",
    "import itertools    \n",
    "from sklearn.metrics import  confusion_matrix, roc_curve, auc"
   ]
  },
  {
   "cell_type": "code",
   "execution_count": 185,
   "id": "4b754b4d-0fd0-4015-95dc-73e928e4d41a",
   "metadata": {},
   "outputs": [],
   "source": [
    "class CBISDataset(Dataset):\n",
    "    \n",
    "    def __init__(self, X, Y):\n",
    "        # Complete the method\n",
    "        super().__init__()\n",
    "        self.X = X\n",
    "        self.Y = Y\n",
    "        \n",
    "   # Complete the class\n",
    "    def __len__(self):\n",
    "        return len(self.X)\n",
    "    \n",
    "    def __getitem__(self, index):        \n",
    "        x = torch.from_numpy(self.X.iloc[index].to_numpy()).float()\n",
    "        y = torch.from_numpy(self.Y.iloc[index].to_numpy()).long()\n",
    "        return x,y"
   ]
  },
  {
   "cell_type": "code",
   "execution_count": 186,
   "id": "795b16a4-55ba-4aa5-a33f-fd6d759ddcc8",
   "metadata": {},
   "outputs": [],
   "source": [
    "# Complete code here\n",
    "train_dataset = CBISDataset(X_train, y_train)\n",
    "test_dataset = CBISDataset(X_test, y_test)"
   ]
  },
  {
   "cell_type": "markdown",
   "id": "4e2a03cd-8e07-4a36-a70a-4e7569ef241d",
   "metadata": {},
   "source": [
    "What are the input and output dimensions of your data?"
   ]
  },
  {
   "cell_type": "code",
   "execution_count": 61,
   "id": "461fbecd",
   "metadata": {},
   "outputs": [
    {
     "name": "stdout",
     "output_type": "stream",
     "text": [
      "1318 378\n"
     ]
    }
   ],
   "source": [
    "print(len(train_dataset), len(test_dataset))"
   ]
  },
  {
   "cell_type": "markdown",
   "id": "c986c479-604f-4203-9423-98e794b5d131",
   "metadata": {},
   "source": [
    "### 3.3. Multi-layered-perceptron (5 points)\n",
    "\n",
    "Design a multi layer perceptron (MLP) with 1 hidden full connected layer. Use `ReLU` non-linearity."
   ]
  },
  {
   "cell_type": "markdown",
   "id": "bf130cd9-c7d4-4885-bad7-14771a5204ff",
   "metadata": {},
   "source": [
    "**Solution:**"
   ]
  },
  {
   "cell_type": "code",
   "execution_count": 319,
   "id": "c48adcac-cadb-47b7-a40d-e9bce76612f6",
   "metadata": {},
   "outputs": [],
   "source": [
    "class Network(nn.Module):\n",
    "    \n",
    "    # Complete the code cell\n",
    "    def __init__(self, input_dim, output_dim, final_dim):\n",
    "        super(Network, self).__init__()\n",
    "        # hidden fully connected layer\n",
    "        self.fc1 = nn.Linear(input_dim,output_dim)\n",
    "        # relu\n",
    "        self.relu = nn.ReLU()\n",
    "        # output layer - 3 outcomes\n",
    "        self.output = nn.Linear(output_dim, final_dim)\n",
    "    \n",
    "    def forward(self, x):\n",
    "        x1 = self.fc1(x)\n",
    "        x2 = self.relu(x1)\n",
    "        x3 = self.output(x2)\n",
    "        return x3"
   ]
  },
  {
   "cell_type": "markdown",
   "id": "4d8f42f8-f7da-49aa-8c4c-db852986adac",
   "metadata": {},
   "source": [
    "### 3.4. Implement the train function (15 points) \n",
    "\n",
    "- Followed by training the network for training for 1000 epochs and batch size of 100 samples.\n",
    "- Collect average train loss over each epoch for all batch iterations. \n",
    "- Plot Training Loss"
   ]
  },
  {
   "cell_type": "code",
   "execution_count": 250,
   "id": "071398bd",
   "metadata": {},
   "outputs": [],
   "source": [
    "def train_fn(model, train_loader, optimizer, criterion):\n",
    "    # Code the function\n",
    "    # Return average loss for the epoch\n",
    "    avgloss = []\n",
    "    epoch_loss = 0\n",
    "    model.train()\n",
    "    for batch, (x,y) in enumerate(train_loader):\n",
    "        optimizer.zero_grad()\n",
    "        pred = model(x)\n",
    "        y = y.view(-1)\n",
    "        loss = criterion(pred, y)\n",
    "        epoch_loss += loss.item()\n",
    "        loss.backward()\n",
    "        optimizer.step()\n",
    "    avgloss.append(epoch_loss/len(x))\n",
    "    return epoch_loss, avgloss"
   ]
  },
  {
   "cell_type": "markdown",
   "id": "0d9e3516-a3c3-46e6-b5a9-ded7f89036f0",
   "metadata": {},
   "source": [
    "1. Create dataloaders to feed your network. You need to reshuffle your training samples for each epoch.\n",
    "2. Train your network using following specifications:\n",
    "    - `learning rate`: $10^{-2}$\n",
    "    - `Optimizer`: SGD \n",
    "    - `Loss Function`: CrossEntropyLoss  \n",
    "    - `Batch Size`: 100"
   ]
  },
  {
   "cell_type": "code",
   "execution_count": 214,
   "id": "d9a4f1e9-ffd9-48e0-a26a-5afc39891248",
   "metadata": {},
   "outputs": [],
   "source": [
    "# Complete code here\n",
    "BATCH_SIZE = 100\n",
    "train_dataloader = DataLoader(train_dataset, batch_size = BATCH_SIZE, shuffle = True)\n",
    "test_dataloader = DataLoader(test_dataset, batch_size = BATCH_SIZE, shuffle = False)"
   ]
  },
  {
   "cell_type": "code",
   "execution_count": 280,
   "id": "591b3ac1",
   "metadata": {},
   "outputs": [
    {
     "name": "stderr",
     "output_type": "stream",
     "text": [
      " 10%|███████▉                                                                       | 100/1000 [00:41<05:27,  2.74it/s]"
     ]
    },
    {
     "name": "stdout",
     "output_type": "stream",
     "text": [
      "Average training loss for epoch 100: [0.4884705940882365]\n"
     ]
    },
    {
     "name": "stderr",
     "output_type": "stream",
     "text": [
      " 20%|███████████████▊                                                               | 200/1000 [01:19<04:59,  2.67it/s]"
     ]
    },
    {
     "name": "stdout",
     "output_type": "stream",
     "text": [
      "Average training loss for epoch 200: [0.45850685901112026]\n"
     ]
    },
    {
     "name": "stderr",
     "output_type": "stream",
     "text": [
      " 30%|███████████████████████▋                                                       | 300/1000 [01:57<04:34,  2.55it/s]"
     ]
    },
    {
     "name": "stdout",
     "output_type": "stream",
     "text": [
      "Average training loss for epoch 300: [0.43144265479511684]\n"
     ]
    },
    {
     "name": "stderr",
     "output_type": "stream",
     "text": [
      " 40%|███████████████████████████████▌                                               | 400/1000 [02:35<03:42,  2.70it/s]"
     ]
    },
    {
     "name": "stdout",
     "output_type": "stream",
     "text": [
      "Average training loss for epoch 400: [0.4250092738204532]\n"
     ]
    },
    {
     "name": "stderr",
     "output_type": "stream",
     "text": [
      " 50%|███████████████████████████████████████▌                                       | 500/1000 [03:13<03:12,  2.60it/s]"
     ]
    },
    {
     "name": "stdout",
     "output_type": "stream",
     "text": [
      "Average training loss for epoch 500: [0.41720668640401626]\n"
     ]
    },
    {
     "name": "stderr",
     "output_type": "stream",
     "text": [
      " 60%|███████████████████████████████████████████████▍                               | 600/1000 [03:51<02:26,  2.73it/s]"
     ]
    },
    {
     "name": "stdout",
     "output_type": "stream",
     "text": [
      "Average training loss for epoch 600: [0.4036383430163066]\n"
     ]
    },
    {
     "name": "stderr",
     "output_type": "stream",
     "text": [
      " 70%|███████████████████████████████████████████████████████▎                       | 700/1000 [04:29<01:52,  2.66it/s]"
     ]
    },
    {
     "name": "stdout",
     "output_type": "stream",
     "text": [
      "Average training loss for epoch 700: [0.4020405610402425]\n"
     ]
    },
    {
     "name": "stderr",
     "output_type": "stream",
     "text": [
      " 80%|███████████████████████████████████████████████████████████████▏               | 800/1000 [05:08<01:14,  2.68it/s]"
     ]
    },
    {
     "name": "stdout",
     "output_type": "stream",
     "text": [
      "Average training loss for epoch 800: [0.3992447803417842]\n"
     ]
    },
    {
     "name": "stderr",
     "output_type": "stream",
     "text": [
      " 90%|███████████████████████████████████████████████████████████████████████        | 900/1000 [05:46<00:38,  2.62it/s]"
     ]
    },
    {
     "name": "stdout",
     "output_type": "stream",
     "text": [
      "Average training loss for epoch 900: [0.4056689391533534]\n"
     ]
    },
    {
     "name": "stderr",
     "output_type": "stream",
     "text": [
      "100%|██████████████████████████████████████████████████████████████████████████████| 1000/1000 [06:24<00:00,  2.60it/s]"
     ]
    },
    {
     "name": "stdout",
     "output_type": "stream",
     "text": [
      "Average training loss for epoch 1000: [0.3913876546753777]\n"
     ]
    },
    {
     "name": "stderr",
     "output_type": "stream",
     "text": [
      "\n"
     ]
    },
    {
     "data": {
      "image/png": "[encoded data removed]",
      "text/plain": [
       "<Figure size 720x288 with 2 Axes>"
      ]
     },
     "metadata": {
      "needs_background": "light"
     },
     "output_type": "display_data"
    }
   ],
   "source": [
    "model = Network(54, 64, 3)\n",
    "optimizer = optim.SGD(model.parameters(), lr=0.01)\n",
    "criterion = nn.CrossEntropyLoss()\n",
    "NUM_EPOCHS = 1000\n",
    "avg_losses = []\n",
    "total_losses = []\n",
    "for epoch in trange(1, NUM_EPOCHS+1):\n",
    "    total, avg = train_fn(model, train_dataloader, optimizer, criterion)\n",
    "    if not epoch % 100:\n",
    "        print(f\"Average training loss for epoch {epoch}: {avg}\")\n",
    "    total_losses.append(total)\n",
    "    avg_losses.append(avg)\n",
    "\n",
    "plt.figure(figsize = (10,4))\n",
    "plt.subplot(121)\n",
    "plt.plot(range(1000), total_losses, label = 'Total Loss'), plt.xlabel('Epoch'), plt.ylabel('Total Loss per Epoch')\n",
    "plt.subplot(122)\n",
    "plt.plot(range(1000), avg_losses, label = 'Avg Loss', color = 'orange'), plt.xlabel('Epoch'), plt.ylabel('Avg Loss per Epoch')\n",
    "plt.show()"
   ]
  },
  {
   "cell_type": "markdown",
   "id": "4d6b4ca7-9de6-463d-b769-3a55ec832b44",
   "metadata": {},
   "source": [
    "Plot *loss vs epoch* curve using the `losses` array:"
   ]
  },
  {
   "cell_type": "markdown",
   "id": "04613267-f136-4679-b28d-538d603267c4",
   "metadata": {},
   "source": [
    "### 3.5. Implement the test function (10 points) \n",
    "\n",
    "- Evaluate your model over test data. \n",
    "- Show confusion matrix and AUROC Curve (Class wise) for both test data"
   ]
  },
  {
   "cell_type": "code",
   "execution_count": 282,
   "id": "edb8aeff-0a29-4cce-abcb-27cfc0e76dcb",
   "metadata": {},
   "outputs": [],
   "source": [
    "def plot_confusion_matrix(cm, classes,\n",
    "                          normalize=False,\n",
    "                          title='Confusion matrix',\n",
    "                          cmap=plt.cm.Blues):\n",
    "    \"\"\"\n",
    "    This function prints and plots the confusion matrix.\n",
    "    Normalization can be applied by setting `normalize=True`.\n",
    "    \"\"\"\n",
    "    if normalize:\n",
    "        cm = cm.astype('float') / cm.sum(axis=1)[:, np.newaxis]\n",
    "        print(\"Normalized confusion matrix\")\n",
    "    else:\n",
    "        print('Confusion matrix, without normalization')\n",
    "\n",
    "    print(cm)\n",
    "\n",
    "    plt.imshow(cm, interpolation='nearest', cmap=cmap)\n",
    "    plt.title(title)\n",
    "    plt.colorbar()\n",
    "    tick_marks = np.arange(len(classes))\n",
    "    plt.xticks(tick_marks, classes, rotation=45)\n",
    "    plt.yticks(tick_marks, classes)\n",
    "\n",
    "    fmt = '.2f' if normalize else 'd'\n",
    "    thresh = cm.max() / 2.\n",
    "    for i, j in itertools.product(range(cm.shape[0]), range(cm.shape[1])):\n",
    "        plt.text(j, i, format(cm[i, j], fmt),\n",
    "                 horizontalalignment=\"center\",\n",
    "                 color=\"white\" if cm[i, j] > thresh else \"black\")\n",
    "\n",
    "    plt.tight_layout()\n",
    "    plt.ylabel('True label')\n",
    "    plt.xlabel('Predicted label')\n",
    "\n",
    "# Compute confusion matrix\n",
    "def cm(y_true, y_pred):\n",
    "    cnf_matrix = confusion_matrix(y_true, y_pred)\n",
    "    np.set_printoptions(precision=2)\n",
    "    plt.figure()\n",
    "    class_names = ['0: BENIGN','1: BENIGN_WC','2: MALIGNANT']\n",
    "    plot_confusion_matrix(cnf_matrix, classes=class_names,\n",
    "                          title='Confusion matrix')"
   ]
  },
  {
   "cell_type": "code",
   "execution_count": 328,
   "id": "c75eebc4-d1ec-4852-9943-d35a5a2dc3d8",
   "metadata": {},
   "outputs": [],
   "source": [
    "from sklearn.metrics import accuracy_score\n",
    "def test(model, test_loader, loss_criterion):\n",
    "    correct = 0\n",
    "    loss = 0\n",
    "    y_pred = []\n",
    "    y_true = []\n",
    "    model.eval()\n",
    "    # Complete the function\n",
    "    for batch, (x,y) in enumerate(test_loader):\n",
    "        pred = model(x)\n",
    "        y = y.view(-1)\n",
    "        l = loss_criterion(pred, y)\n",
    "        loss += l.item()\n",
    "        #correct += accuracy_score(pred.detach().numpy(),y.detach().numpy())\n",
    "        y_pred.append(pred)\n",
    "        y_true.append(y)\n",
    "    return loss, correct, y_true, y_pred"
   ]
  },
  {
   "cell_type": "code",
   "execution_count": 329,
   "id": "1be86397-b4f7-49b8-bd8a-a71b683e0eaf",
   "metadata": {},
   "outputs": [
    {
     "name": "stdout",
     "output_type": "stream",
     "text": [
      "tensor([[-6.9228e-01, -1.4777e+00,  2.5212e+00],\n",
      "        [-8.0089e-01, -1.0575e+00,  2.2216e+00],\n",
      "        [ 1.7415e+00, -5.3917e-01, -5.3312e-01],\n",
      "        [ 1.0427e+00, -2.0463e+00,  1.4965e+00],\n",
      "        [ 2.3893e+00, -1.7575e+00, -1.9865e-01],\n",
      "        [ 2.2050e+00, -1.4007e+00, -4.3497e-01],\n",
      "        [-5.0859e-01, -1.4836e+00,  2.1282e+00],\n",
      "        [-8.9544e-01, -1.2767e+00,  2.1999e+00],\n",
      "        [ 1.6460e+00, -1.0656e+00, -7.8720e-02],\n",
      "        [-6.9228e-01, -1.4777e+00,  2.5212e+00],\n",
      "        [-8.0089e-01, -1.0575e+00,  2.2216e+00],\n",
      "        [ 1.5056e+00, -1.3324e-01, -7.3837e-01],\n",
      "        [ 1.5514e+00, -2.6670e+00,  1.5015e+00],\n",
      "        [-1.4422e+00, -1.3089e+00,  2.9992e+00],\n",
      "        [-1.7271e+00, -2.1269e+00,  3.8672e+00],\n",
      "        [-1.5276e+00, -1.0447e+00,  2.7801e+00],\n",
      "        [-1.8180e+00, -1.8497e+00,  3.6653e+00],\n",
      "        [-1.4604e+00, -9.3544e-01,  2.5101e+00],\n",
      "        [-1.6300e+00, -5.8551e-01,  2.3271e+00],\n",
      "        [ 1.8712e+00, -1.2213e+00, -1.5204e-01],\n",
      "        [ 2.4081e+00, -1.2208e+00, -6.3999e-01],\n",
      "        [ 2.2029e+00, -8.8007e-01, -7.9936e-01],\n",
      "        [ 1.4911e+00, -7.3962e-01, -1.4717e-01],\n",
      "        [ 1.2494e+00, -2.9943e-01, -3.4878e-01],\n",
      "        [ 2.7487e+00, -2.5271e+00,  2.4580e-01],\n",
      "        [ 2.5193e+00, -2.1487e+00,  6.4408e-02],\n",
      "        [ 1.4452e+00, -2.8926e+00,  1.8566e+00],\n",
      "        [ 1.2151e+00, -2.6002e+00,  1.7397e+00],\n",
      "        [ 1.7053e+00, -8.7357e-01, -3.8301e-01],\n",
      "        [ 2.0470e+00, -6.4510e-01, -8.3811e-01],\n",
      "        [ 1.3962e+00, -9.2632e-02, -8.0273e-01],\n",
      "        [ 9.4188e-01, -2.5503e+00,  1.8413e+00],\n",
      "        [ 8.6468e-01, -2.1599e+00,  1.5257e+00],\n",
      "        [ 1.9621e+00, -1.3017e+00, -6.6252e-02],\n",
      "        [ 1.7275e+00, -9.2236e-01, -2.2046e-01],\n",
      "        [ 2.3101e+00, -9.8250e-01, -7.4509e-01],\n",
      "        [ 1.5833e+00, -1.7660e+00,  5.1123e-01],\n",
      "        [ 2.0470e+00, -6.4510e-01, -8.3811e-01],\n",
      "        [ 1.3300e+00, -1.3965e+00,  3.8263e-01],\n",
      "        [ 6.4182e-01, -1.7204e+00,  1.5992e+00],\n",
      "        [-6.6769e-01, -8.3022e-01,  1.9396e+00],\n",
      "        [ 2.1179e+00, -1.3294e+00, -2.7230e-01],\n",
      "        [ 7.8854e-01, -1.7824e+00,  1.2423e+00],\n",
      "        [ 6.5666e-01, -1.4652e+00,  9.9331e-01],\n",
      "        [ 1.9621e+00, -1.3017e+00, -6.6252e-02],\n",
      "        [ 1.7275e+00, -9.2236e-01, -2.2046e-01],\n",
      "        [ 1.0857e+00, -1.9983e+00,  1.2679e+00],\n",
      "        [ 2.5193e+00, -2.1487e+00,  6.4408e-02],\n",
      "        [ 1.2865e+00, -1.8356e+00,  8.5584e-01],\n",
      "        [-7.3550e-01,  3.1308e-01,  5.4652e-01],\n",
      "        [ 3.3892e-02, -5.9124e-01,  9.1035e-01],\n",
      "        [-2.3088e-01, -2.8313e-01,  8.1833e-01],\n",
      "        [ 9.4986e-01, -2.2105e+00,  1.5577e+00],\n",
      "        [ 8.0984e-01, -1.8531e+00,  1.3196e+00],\n",
      "        [-1.1526e+00, -1.0760e+00,  2.3877e+00],\n",
      "        [ 1.4388e+00, -3.0986e+00,  1.8925e+00],\n",
      "        [ 1.3547e+00, -2.7851e+00,  1.6252e+00],\n",
      "        [ 1.8055e+00, -9.8142e-01, -3.1450e-01],\n",
      "        [ 1.6074e+00, -6.4514e-01, -4.5112e-01],\n",
      "        [-4.5919e-01,  1.3627e+00, -5.5381e-01],\n",
      "        [ 2.2029e+00, -8.8007e-01, -7.9936e-01],\n",
      "        [ 7.3708e-01, -1.6125e+00,  1.2777e+00],\n",
      "        [ 5.4833e-01, -1.2964e+00,  1.1041e+00],\n",
      "        [-9.5196e-01, -1.4700e+00,  2.6870e+00],\n",
      "        [-1.0919e+00, -1.1584e+00,  2.5226e+00],\n",
      "        [ 1.6815e-01, -2.0241e+00,  2.0792e+00],\n",
      "        [-1.4753e+00, -1.1903e+00,  2.7250e+00],\n",
      "        [ 2.9900e+00, -2.6430e+00,  2.9622e-01],\n",
      "        [-6.9222e-01,  1.6790e+00, -4.2144e-01],\n",
      "        [-8.2466e-01,  2.0163e+00, -6.2105e-01],\n",
      "        [-7.5479e-01,  1.6880e+00, -5.1903e-01],\n",
      "        [-8.9388e-01,  9.1917e-01,  1.9412e-01],\n",
      "        [-8.9237e-01,  2.0452e+00, -7.1526e-01],\n",
      "        [-1.0696e+00,  1.3240e+00,  3.1314e-04],\n",
      "        [ 5.3161e-02, -7.7746e-01,  1.1308e+00],\n",
      "        [-6.6769e-01, -8.3022e-01,  1.9396e+00],\n",
      "        [-7.9219e-01, -4.5450e-01,  1.5231e+00],\n",
      "        [-8.2667e-01, -6.1625e-02,  1.2227e+00],\n",
      "        [ 2.5193e+00, -2.1487e+00,  6.4408e-02],\n",
      "        [ 1.3681e+00, -2.4584e+00,  1.6945e+00],\n",
      "        [ 1.2016e+00, -2.0610e+00,  1.4589e+00],\n",
      "        [ 1.2161e+00, -1.6614e+00,  9.0635e-01],\n",
      "        [ 9.9960e-01, -1.3465e+00,  7.4763e-01],\n",
      "        [ 8.6835e-01, -2.4536e+00,  1.9587e+00],\n",
      "        [ 7.8225e-01, -2.0291e+00,  1.6291e+00],\n",
      "        [ 2.5735e+00, -2.5591e+00,  5.5842e-01],\n",
      "        [ 2.2858e+00, -2.2125e+00,  4.4224e-01],\n",
      "        [-9.8419e-02, -3.3512e-01,  8.2545e-01],\n",
      "        [ 4.4926e-01, -7.1844e-01,  6.4775e-01],\n",
      "        [ 2.8069e+00, -2.8066e+00,  5.5095e-01],\n",
      "        [ 2.6209e+00, -2.4253e+00,  3.4372e-01],\n",
      "        [ 2.7619e+00, -2.5290e+00,  2.5021e-01],\n",
      "        [ 2.6000e+00, -2.1672e+00,  3.1713e-02],\n",
      "        [-6.3074e-02,  3.3226e-01,  1.3210e-01],\n",
      "        [ 2.9900e+00, -2.6430e+00,  2.9622e-01],\n",
      "        [ 2.7694e+00, -2.2069e+00,  7.7718e-02],\n",
      "        [ 1.4452e+00, -2.8926e+00,  1.8566e+00],\n",
      "        [ 1.2151e+00, -2.6002e+00,  1.7397e+00],\n",
      "        [-1.8946e-01, -2.1338e+00,  2.5788e+00],\n",
      "        [ 1.4788e+00, -2.7288e+00,  1.7359e+00]], grad_fn=<AddmmBackward>)\n"
     ]
    },
    {
     "ename": "RuntimeError",
     "evalue": "Boolean value of Tensor with more than one value is ambiguous",
     "output_type": "error",
     "traceback": [
      "\u001b[1;31m---------------------------------------------------------------------------\u001b[0m",
      "\u001b[1;31mRuntimeError\u001b[0m                              Traceback (most recent call last)",
      "\u001b[1;32m~\\AppData\\Local\\Temp/ipykernel_4940/1544544812.py\u001b[0m in \u001b[0;36m<module>\u001b[1;34m\u001b[0m\n\u001b[0;32m      1\u001b[0m \u001b[0mtest_criterion\u001b[0m \u001b[1;33m=\u001b[0m \u001b[0mnn\u001b[0m\u001b[1;33m.\u001b[0m\u001b[0mCrossEntropyLoss\u001b[0m\u001b[1;33m(\u001b[0m\u001b[1;33m)\u001b[0m\u001b[1;33m\u001b[0m\u001b[1;33m\u001b[0m\u001b[0m\n\u001b[1;32m----> 2\u001b[1;33m \u001b[0mloss\u001b[0m\u001b[1;33m,\u001b[0m \u001b[0mcorrect\u001b[0m\u001b[1;33m,\u001b[0m \u001b[0my_true\u001b[0m\u001b[1;33m,\u001b[0m \u001b[0my_pred\u001b[0m \u001b[1;33m=\u001b[0m \u001b[0mtest\u001b[0m\u001b[1;33m(\u001b[0m\u001b[0mmodel\u001b[0m\u001b[1;33m,\u001b[0m \u001b[0mtest_dataloader\u001b[0m \u001b[1;33m,\u001b[0m\u001b[0mtest_criterion\u001b[0m\u001b[1;33m)\u001b[0m\u001b[1;33m\u001b[0m\u001b[1;33m\u001b[0m\u001b[0m\n\u001b[0m",
      "\u001b[1;32m~\\AppData\\Local\\Temp/ipykernel_4940/2275863090.py\u001b[0m in \u001b[0;36mtest\u001b[1;34m(model, test_loader, loss_criterion)\u001b[0m\n\u001b[0;32m     14\u001b[0m         \u001b[1;31m#correct += accuracy_score(pred.detach().numpy(),y.detach().numpy())\u001b[0m\u001b[1;33m\u001b[0m\u001b[1;33m\u001b[0m\u001b[1;33m\u001b[0m\u001b[0m\n\u001b[0;32m     15\u001b[0m         \u001b[0mprint\u001b[0m\u001b[1;33m(\u001b[0m\u001b[0mpred\u001b[0m\u001b[1;33m)\u001b[0m\u001b[1;33m\u001b[0m\u001b[1;33m\u001b[0m\u001b[0m\n\u001b[1;32m---> 16\u001b[1;33m         \u001b[0my_pred\u001b[0m\u001b[1;33m.\u001b[0m\u001b[0mappend\u001b[0m\u001b[1;33m(\u001b[0m\u001b[0mmax\u001b[0m\u001b[1;33m(\u001b[0m\u001b[0mpred\u001b[0m\u001b[1;33m)\u001b[0m\u001b[1;33m)\u001b[0m\u001b[1;33m\u001b[0m\u001b[1;33m\u001b[0m\u001b[0m\n\u001b[0m\u001b[0;32m     17\u001b[0m         \u001b[0my_true\u001b[0m\u001b[1;33m.\u001b[0m\u001b[0mappend\u001b[0m\u001b[1;33m(\u001b[0m\u001b[0my\u001b[0m\u001b[1;33m)\u001b[0m\u001b[1;33m\u001b[0m\u001b[1;33m\u001b[0m\u001b[0m\n\u001b[0;32m     18\u001b[0m     \u001b[1;32mreturn\u001b[0m \u001b[0mloss\u001b[0m\u001b[1;33m,\u001b[0m \u001b[0mcorrect\u001b[0m\u001b[1;33m,\u001b[0m \u001b[0my_true\u001b[0m\u001b[1;33m,\u001b[0m \u001b[0my_pred\u001b[0m\u001b[1;33m\u001b[0m\u001b[1;33m\u001b[0m\u001b[0m\n",
      "\u001b[1;31mRuntimeError\u001b[0m: Boolean value of Tensor with more than one value is ambiguous"
     ]
    }
   ],
   "source": [
    "test_criterion = nn.CrossEntropyLoss()\n",
    "loss, correct, y_true, y_pred = test(model, test_dataloader ,test_criterion)"
   ]
  },
  {
   "cell_type": "code",
   "execution_count": null,
   "id": "ed45cca9",
   "metadata": {},
   "outputs": [],
   "source": [
    "# Call method to plot confusion matrix\n",
    "cm(y_true, y_pred)"
   ]
  },
  {
   "cell_type": "markdown",
   "id": "803e2a23-2136-4fa1-b9dc-6f0578f21bb7",
   "metadata": {},
   "source": [
    "### 3.5. Logistic Regression (10 points)\n",
    "\n",
    "- Train a multi-class logistic regression model (in PyTorch) and compare its performance to MLP."
   ]
  },
  {
   "cell_type": "code",
   "execution_count": null,
   "id": "f5d71ea6-853e-4ed1-a50e-318b96823b1f",
   "metadata": {},
   "outputs": [],
   "source": [
    "class LogisticReg(nn.Module):\n",
    "    # Complete the class"
   ]
  },
  {
   "cell_type": "code",
   "execution_count": null,
   "id": "8ceb9758-e5d6-40f9-af25-73528a431bb9",
   "metadata": {},
   "outputs": [],
   "source": [
    "logreg_model = \n",
    "optimizer = \n",
    "criterion = \n",
    "NUM_EPOCHS = \n",
    "\n",
    "avg_losses = []\n",
    "for epoch in trange(1, NUM_EPOCHS+1):\n",
    "    loss = train_fn(,,,)\n",
    "    if not epoch % 100:\n",
    "        print(f\"Average training loss for epoch {epoch}: {loss}\")\n",
    "    avg_losses.append(loss)"
   ]
  },
  {
   "cell_type": "code",
   "execution_count": null,
   "id": "dd9af6d4-b938-48a3-b041-f5bedbfe34ed",
   "metadata": {},
   "outputs": [],
   "source": [
    "test_criterion = \n",
    "loss, correct, y_true, y_pred = test(,,,)"
   ]
  },
  {
   "cell_type": "code",
   "execution_count": null,
   "id": "42d11ba4-635a-456a-8c7c-80bb00a32f79",
   "metadata": {},
   "outputs": [],
   "source": [
    "cm(y_true, y_pred)"
   ]
  },
  {
   "cell_type": "markdown",
   "id": "f1833e00-eeda-4d7f-8ea5-7118a9191cea",
   "metadata": {},
   "source": [
    "### Bonus (10 points)\n"
   ]
  },
  {
   "cell_type": "markdown",
   "id": "e404189c-f09e-4659-9810-bb39ca124a0b",
   "metadata": {},
   "source": [
    "- Compare your training and test performance. Is your model trained properly? Suggest methods to improve its performance.\n",
    "\n",
    "- For the assignment, you used SGD as the optimization function, Try [different optimizer](https://pytorch.org/docs/stable/optim.html) from PyTorch. Give sufficient reasoning if you observe any difference in performance and exlaination on its working."
   ]
  }
 ],
 "metadata": {
  "kernelspec": {
   "display_name": "Python 3 (ipykernel)",
   "language": "python",
   "name": "python3"
  },
  "language_info": {
   "codemirror_mode": {
    "name": "ipython",
    "version": 3
   },
   "file_extension": ".py",
   "mimetype": "text/x-python",
   "name": "python",
   "nbconvert_exporter": "python",
   "pygments_lexer": "ipython3",
   "version": "3.8.3"
  }
 },
 "nbformat": 4,
 "nbformat_minor": 5
}
