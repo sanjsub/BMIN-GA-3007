{
  "cells": [
    {
      "cell_type": "markdown",
      "metadata": {
        "id": "-7LGV_uT_vgD"
      },
      "source": [
        "# Deep Learning in Medicine\n",
        "## BMSC-GA 4493, BMIN-GA 3007\n",
        "## Homework 3: RNNs\n",
        "\n",
        "Note 1: You can either work on HPC (recommended) or Google Colab for this homework.\n",
        "\n",
        "Note 2: If you need to write mathematical terms, you can type your answers in a Markdown Cell via LaTex\n",
        "See: <a href=\"https://stackoverflow.com/questions/13208286/how-to-write-latex-in-ipython-notebook\">here</a> if you have issues. To see basic LaTex notation see: <a href=\"https://en.wikibooks.org/wiki/LaTeX/Mathematics\">here</a>.\n",
        "\n",
        "\n",
        "Submission instruction: Upload your final jupyter notebook file, along with any figures that you may produce, in a zipped file named **netid_hw3** on Brightspace.\n",
        "\n",
        "**Submission deadline: Thursday April 14th 2022 11:59pm.**\n",
        "\n"
      ]
    },
    {
      "cell_type": "markdown",
      "metadata": {
        "id": "GSdEcxBw_vgQ"
      },
      "source": [
        "# Question 1: Literature Review: LSTM for ECG Signal Classification (Total points 20 + 5 bonus points)\n",
        "\n",
        "Read this paper:\n",
        "\n",
        "#### Yildirim, Özal. \"A novel wavelet sequence based on deep bidirectional LSTM network model for ECG signal classification.\" Computers in biology and medicine 96 (2018): 189-202.\n",
        "\n",
        "https://www.sciencedirect.com/science/article/pii/S0010482518300738?casa_token=XhS9KHU_fQoAAAAA:FGE7jkAK3I7HRf1yZNl8LA2snhUo1VgyEYdL7oXP1aI3jkBoqEc3dnvGtw1FEuNzWhnlAZ5X\n",
        "\n",
        "We are interested in understanding the task, the methods that is proposed in this publication, technical aspects of the implementation, and possible future work."
      ]
    },
    {
      "cell_type": "markdown",
      "metadata": {
        "id": "p-a9wW1__vgS"
      },
      "source": [
        "**1.1) (5 points)** After you read the full article, go back to section Materials and Method. You can find the two proposed Deep Learning architectures in the paper. Please briefly describe the model structure of one of the model, DBLSTM-WS. What are the layers, number of features input to the network and the output dimension of the model? You can ignore specifics parameters for the layers."
      ]
    },
    {
      "cell_type": "markdown",
      "metadata": {
        "id": "nxn2e9hj_vgT"
      },
      "source": [
        "In the DBLSTM-WS model, the top layer is a wavelet transform based WS (wavelet sequence) layer, where a discrete wavelet transform is applied on the segmented input signals (the decomposition process is specified by a \"Levels\" parameter). This layer was followed by two layers of BLSTM and a dropout, flatten, and two fully connected layers (with ReLU and softmax activations applied respectively). Inputs to the initial layer were determined by the level selected for the wavelet transform (between 1 and 4). The BTLSM layers had 64 and 32 dimensions respectively, followed by fully connected layers with 128 and 5 dimensions (corresponding to the 5 classes of signal)."
      ]
    },
    {
      "cell_type": "markdown",
      "metadata": {
        "id": "j6sXYGxM_vgV"
      },
      "source": [
        "**1.2) (5 points)** What is the loss function for the two proposed models (same for both)? What are the evaluation criteria used by the authors for the models?"
      ]
    },
    {
      "cell_type": "markdown",
      "metadata": {
        "id": "kWNUB3Zb_vgW"
      },
      "source": [
        "The loss function selected for the models was categorical cross entropy, which is appropriate for this multiclass classification problem. In order to assess the benefits of the addition of the WS framework, the authors first assessed classification accuracy on normal DULSTM/DBLSTM models before including the additional layer. Confusion matrices show classification accuracy for each of the 5 classes. Because of the 4-tiered structure of the WS layer, each model had to be assessed with regards to a modulation of these layers from WS1 to WS4. Training for both versions of the model was completed by the 50th epoch, with testing accuracies at each WS level exceeding 99% in all cases. A visualization of learned features showed that feature size decreased and regions were better separated in radar plots of the 5 classes, indicating that the WS layer reduces the size of the features learned by the deep LSTM networks and provides more distinguishing features. In terms of time efficiency, it was found that DBLSTM models require more time than DULSTM networks."
      ]
    },
    {
      "cell_type": "markdown",
      "metadata": {
        "id": "MP6reN8D_vgY"
      },
      "source": [
        "**1.3) (5 points)** The Wavelet Sequences (WS) layer serves as a data transformation for the input ECG sequence. Please briefly describe the details functionality of the layer. Please also describe conceptually the effect of number of layers for WS layer on the signal **(Hint: check the included figures in section 4)**."
      ]
    },
    {
      "cell_type": "markdown",
      "metadata": {
        "id": "tK8zvcOb_vgZ"
      },
      "source": [
        "In the WS layer, frequency sub-bands belonging to the signals were obtained for use in the classification phase. These sub-bands are presented in sequence to other layers without any additional calculation. The WS layer takes the level information so the signals can be decomposed as parameters. According to this level parameter, sequences are generated in different sub frequency bands belonging to the signals (from 1 through 4). Wavelet transform performs a down sample using two operations at every level. As the number of levels increases, the number of features of the input signal increases. WS1 provides a two-dimensional feature input while WS4 contains five-dimensional feature signals."
      ]
    },
    {
      "cell_type": "markdown",
      "metadata": {
        "id": "b91i2jBf_vgb"
      },
      "source": [
        "**1.4) (5 points)** Are there some data augmentation/regularization that authors have used? What are some techniques that could have been used but wasn't? Briefly provide some explanation of your choice."
      ]
    },
    {
      "cell_type": "markdown",
      "metadata": {
        "id": "t0VCAmbX_vgc"
      },
      "source": [
        "Inherently, the WS layer reduces the size of the features learned by the deep LSTM networks, provides more distinguishing features, and performs an augmentation process for inputs so that more effective features can be learned. In terms of regularization, two dropout layers were included following the LSTM layer and first fully connected layer in order to reduce overfitting potential. Weight regularization could be used to invoke stricter penalties for misclassifications, as it seemed the more correlated classes (C1/C5 and C4/C5) tended to lead to misclassification. Batch normalization and data shuffling could aid in reducing the number of epochs required while inmproving model stability. In addition, attempting to use other optimizers may yield different results, although Adam is generally the most robust."
      ]
    },
    {
      "cell_type": "markdown",
      "metadata": {
        "id": "lo_XjCOk_vgd"
      },
      "source": [
        "**1.5) (Bonus, maximum 5 points)**. What other architectures would you try? For maximum point, name one architecture, briefly explain your motivation for it and in a few sentences explain why the proposed changes might work better. Do some literature review on the application of such architecture in the medical field."
      ]
    },
    {
      "cell_type": "markdown",
      "metadata": {
        "id": "oJ5mZaTI_vge"
      },
      "source": [
        "One option is to use a modulation of the CNN framework - a one dimensional CNN network can be used to process a one-dimensional time series with uniform interval sampling. Average pooling could be used rather than max pooling in order to preserve the feature scale - this would be in addition to standard dropout and fully connected layers. One extension of this would be to use a dilated causal convolution model - causal convolution can solve the problem of different input and output time steps in CNNs and future information leakage. Dilated convolution can widen the receptive field of the convolution kernel and reduce the network depth to a certain extent. The dilation factor can increase the size of the receptive field, allowing access to a broad range of history conducive to time series signals. This technique is employed in the following paper, and may lead to reduced runtime as well: https://www.hindawi.com/journals/cmmm/2021/6627939/"
      ]
    },
    {
      "cell_type": "markdown",
      "metadata": {
        "id": "JXgLb4F3_vgf"
      },
      "source": [
        "# Question 2: Literature Review: Multi-Channel Fusion LSTM (20 points)\n",
        "\n",
        "Read this paper: \n",
        "\n",
        "\n",
        "#### Liu, S., Wang, X., Xiang, Y., Xu, H., Wang, H., & Tang, B. (2022). Multi-channel Fusion LSTM for Medical Event Prediction using HERs. \n",
        "\n",
        "https://www.sciencedirect.com/science/article/pii/S1532046422000272?casa_token=ymhReMXUX2kAAAAA:pVqghdvoabg5Rkz4IKInVLeiMQNfc3nHc9Y71voIvdD7Ba3yfWOY5ME9Yx97mICi04IREy5b\n",
        "\n",
        "In this paper, the authors propose two models with multi-channel fusion of LSTM to handle heterogeneous electronic medical records. We are interested in understanding how different channels of input signals are processed and embedded with LSTM modules, and subsequently used for downstream tasks.\n"
      ]
    },
    {
      "cell_type": "markdown",
      "metadata": {
        "id": "zzm7Sqx5_vgg"
      },
      "source": [
        "**2.1) (10 points)** After reading the paper, focus on Secion 3.2. Describe, with relevant formulas, how the fusion module works for an individual auxillary channel for Single-Belt Fusion model and Multi-Belt Fusion model. Please also conceptually describe the difference of the fusion modules in the two models."
      ]
    },
    {
      "cell_type": "markdown",
      "metadata": {
        "id": "vWyrqMJD_vgh"
      },
      "source": [
        "In this problem, there were 4 different prediction tasks (medication, lab test, procedure, diagnosis) which the model could be modulated for, and two caveats were heterogeneity of EHRs and temporal irregularity between visits, which tend to bottleneck performance of baseline LSTMs. Correlation was modeled between the primary channel (the prediction task of interest) and the remaining \"auxiliary\" channels using a gated task-wise fusion module which selected how much information was transferred to the primary channel. Effects of temporal irregularity were included as a pseudo auxiliary channel in addition to the other medical events. \n",
        "\n",
        "Given the primary channel and N auxiliary channels (N-1 other medical events + 1 temporal interval), Single-Belt Fusion (SBF) fuses channel information on a single belt: the primary channel and all auxiliary channels share one LSTM unit, and information from all auxiliary channels is projected to the primary channel using a Fusion module, with each message passing through the primary channel belt. The Fusion module can be written as:\n",
        "$v_t^{'k} = 1/ln(e+v_t^k)$ for temporal interval channel and $tanh(W_kv_t^k+b_k)$ for other auxiliary channels, where W refers to weight and b to bias. First, the Fusion module selects information from an auxiliary channel according to the history information, then the selected info is collected from all auxiliary channels (MLP) and input into the LSTM cell.\n",
        "\n",
        "Multi-Belt Fusion (MBF) fuses channel information across multiple belts, where each auxiliary channel has a separate belt. First, each auxiliary channel is individually fused with the primary channel, and then all are combined through an MLP. Unlike SBF, MBF first uses an individual belt for each auxiliary channel with the same fusion module to select information from the auxiliary channel according to the history information, and then it combines the information from all channels after the LSTM cell."
      ]
    },
    {
      "cell_type": "markdown",
      "metadata": {
        "id": "oP-oY-Yk_vgh"
      },
      "source": [
        "**2.2) (5 points)** Consider the Multi-Belt Fusion model. Briefly describe the model structure. Consider that the model is used for a prediction downstream task. Please also describe how the MBF embedding is used for the prediction task, along with the loss function used in the study **(hint: check Section 3.3)**."
      ]
    },
    {
      "cell_type": "markdown",
      "metadata": {
        "id": "u72b2H8d_vgi"
      },
      "source": [
        "in the MBF, there are multiple belts to accomodate the auxiliary channels and make it possible to perform fusion individually with the primary channel based on the history information. These are fed into LSTM blocks, whose outputs can be combined with the primary channel through an MLP. Patient demographic information (S) can be incorporated into the model such that there is an output from: $v_T^{'} = relu(MLP(W_{static}S + b_{static}) + h_T$ which can be passed through a sigmoid function to generate predictions regarding whether a medical event will appear at the next visit (T+1). Cross-entropy loss is used as the objective function for optimization, with L2 regularization employed."
      ]
    },
    {
      "cell_type": "markdown",
      "metadata": {
        "id": "RTZFYJXo_vgj"
      },
      "source": [
        "**2.3) (5 points)** The authors experimented the model using two datasets. Which criteria are used to evaluate the models? What is the best model according to the evaluation criteria?"
      ]
    },
    {
      "cell_type": "markdown",
      "metadata": {
        "id": "1CLw9qhJ_vgj"
      },
      "source": [
        "In order to evaluate performance, AUROC, AUPRC, and top-k recall were used based on standards in literature. These metrics were reported using each medical event as the primary channel. Both proposed models (MCF-LSTM-SBF and MCF-LSTM-MBF) outperform all other benchmarked models (such as DeLSTM, T-LSTM, etc.), mainly due to their ability to learn dynamic temporal dependencies and take advantage of correlations amongst channels. Between the two models, MCF-LSTM-MBF is better than MCF-LSTM-SBF in most cases."
      ]
    },
    {
      "cell_type": "markdown",
      "metadata": {
        "id": "_F33p0Tq_vgj"
      },
      "source": [
        "# Question 3 - Programming: Build Classifiers on Medical Transcriptions - Recurrent Neural Networks and Self Attention(60 points + 10 bonus points)\n",
        "\n",
        "Let's build some models now. In this homework, we will focus on a dataset which has around 5000 medical transcriptions and the corresponding medical specialty. The data is available <a href=\"https://www.kaggle.com/tboyle10/medicaltranscriptions\">here</a>.\n",
        "\n",
        "Here, we will focus on predicting top few classes of medical specialty, from the transcription text. <a href=\"https://github.com/nyumc-dl/BMSC-GA-4493-Spring2022/tree/main/lab6\">Lab 6</a> will be very useful here.\n",
        "\n",
        "**If you are working on Google Colab, please change the working directory path and run the next cell.**"
      ]
    },
    {
      "cell_type": "code",
      "execution_count": 3,
      "metadata": {
        "colab": {
          "base_uri": "https://localhost:8080/"
        },
        "id": "Mo030zN3_vgk",
        "outputId": "c6da31a0-ed67-44e7-d418-5448b57e773e"
      },
      "outputs": [
        {
          "output_type": "stream",
          "name": "stdout",
          "text": [
            "Drive already mounted at /content/drive; to attempt to forcibly remount, call drive.mount(\"/content/drive\", force_remount=True).\n"
          ]
        }
      ],
      "source": [
        "# Run this cell if you are working on Google Colab\n",
        "from google.colab import drive\n",
        "drive.mount('/content/drive')\n",
        "\n",
        "os.chdir('drive/MyDrive')"
      ]
    },
    {
      "cell_type": "markdown",
      "metadata": {
        "id": "eidl6rhV_vgm"
      },
      "source": [
        "**3.1) (5 points)** Read the csv using Pandas. Select the top 6 frequent classes ('medical_specialty') from the data. Only keep the rows that belong to one of these classes in your data. Which classes are there, and how many rows do you have after this filteration?"
      ]
    },
    {
      "cell_type": "code",
      "execution_count": 2,
      "metadata": {
        "colab": {
          "base_uri": "https://localhost:8080/"
        },
        "id": "gkSvGkJi_vgn",
        "outputId": "a8df9500-c9ee-4520-a33d-7b60204c54c7"
      },
      "outputs": [
        {
          "output_type": "stream",
          "name": "stdout",
          "text": [
            "[nltk_data] Downloading package punkt to /root/nltk_data...\n",
            "[nltk_data]   Package punkt is already up-to-date!\n"
          ]
        }
      ],
      "source": [
        "import torch\n",
        "import re\n",
        "import pandas as pd\n",
        "import numpy as np\n",
        "import matplotlib, matplotlib.pyplot as plt\n",
        "from sklearn.model_selection import train_test_split\n",
        "from sklearn.preprocessing import LabelEncoder\n",
        "from sklearn.metrics import roc_auc_score\n",
        "from torch import nn\n",
        "from torch.utils.data import Dataset, DataLoader, TensorDataset, RandomSampler\n",
        "from torchvision import transforms, datasets, models\n",
        "from torch.nn.utils.rnn import pad_sequence, pack_padded_sequence\n",
        "from torch.nn import GRU\n",
        "import torch.nn.functional as F\n",
        "import torch.optim as optim\n",
        "import nltk\n",
        "nltk.download('punkt')\n",
        "from nltk.tokenize import word_tokenize\n",
        "from collections import Counter\n",
        "import os\n",
        "import time\n",
        "import random"
      ]
    },
    {
      "cell_type": "code",
      "execution_count": 4,
      "metadata": {
        "colab": {
          "base_uri": "https://localhost:8080/"
        },
        "id": "JjhEBwCP_vgp",
        "outputId": "dcd31cbd-f563-47a2-a4f1-2cf66e6c74ba"
      },
      "outputs": [
        {
          "output_type": "stream",
          "name": "stdout",
          "text": [
            "There are 1 GPU(s) available.\n",
            "We will use the GPU: Tesla T4\n",
            "Device being used: cuda\n"
          ]
        }
      ],
      "source": [
        "# If there's a GPU available...\n",
        "if torch.cuda.is_available():    \n",
        "    # Tell PyTorch to use the GPU.    \n",
        "    device = torch.device(\"cuda\")\n",
        "    print('There are %d GPU(s) available.' % torch.cuda.device_count())\n",
        "    print('We will use the GPU:', torch.cuda.get_device_name(0))\n",
        "# If not...\n",
        "else:\n",
        "    print('No GPU available, using the CPU instead.')\n",
        "    device = torch.device(\"cpu\")\n",
        "print(\"Device being used: %s\" %device)"
      ]
    },
    {
      "cell_type": "code",
      "execution_count": 5,
      "metadata": {
        "scrolled": true,
        "tags": [],
        "colab": {
          "base_uri": "https://localhost:8080/",
          "height": 354
        },
        "id": "NxHTsGPN_vgr",
        "outputId": "a110e97a-e880-4f81-f53e-343765fd929d"
      },
      "outputs": [
        {
          "output_type": "stream",
          "name": "stdout",
          "text": [
            "4999\n"
          ]
        },
        {
          "output_type": "execute_result",
          "data": {
            "text/plain": [
              "                                         description  \\\n",
              "0   A 23-year-old white female presents with comp...   \n",
              "1           Consult for laparoscopic gastric bypass.   \n",
              "2           Consult for laparoscopic gastric bypass.   \n",
              "3                             2-D M-Mode. Doppler.     \n",
              "4                                 2-D Echocardiogram   \n",
              "\n",
              "             medical_specialty                                sample_name  \\\n",
              "0         Allergy / Immunology                         Allergic Rhinitis    \n",
              "1                   Bariatrics   Laparoscopic Gastric Bypass Consult - 2    \n",
              "2                   Bariatrics   Laparoscopic Gastric Bypass Consult - 1    \n",
              "3   Cardiovascular / Pulmonary                    2-D Echocardiogram - 1    \n",
              "4   Cardiovascular / Pulmonary                    2-D Echocardiogram - 2    \n",
              "\n",
              "                                       transcription  \\\n",
              "0  SUBJECTIVE:,  This 23-year-old white female pr...   \n",
              "1  PAST MEDICAL HISTORY:, He has difficulty climb...   \n",
              "2  HISTORY OF PRESENT ILLNESS: , I have seen ABC ...   \n",
              "3  2-D M-MODE: , ,1.  Left atrial enlargement wit...   \n",
              "4  1.  The left ventricular cavity size and wall ...   \n",
              "\n",
              "                                            keywords  \n",
              "0  allergy / immunology, allergic rhinitis, aller...  \n",
              "1  bariatrics, laparoscopic gastric bypass, weigh...  \n",
              "2  bariatrics, laparoscopic gastric bypass, heart...  \n",
              "3  cardiovascular / pulmonary, 2-d m-mode, dopple...  \n",
              "4  cardiovascular / pulmonary, 2-d, doppler, echo...  "
            ],
            "text/html": [
              "\n",
              "  <div id=\"df-c32da5ff-e5ab-4ab0-9b4d-e833df05c94c\">\n",
              "    <div class=\"colab-df-container\">\n",
              "      <div>\n",
              "<style scoped>\n",
              "    .dataframe tbody tr th:only-of-type {\n",
              "        vertical-align: middle;\n",
              "    }\n",
              "\n",
              "    .dataframe tbody tr th {\n",
              "        vertical-align: top;\n",
              "    }\n",
              "\n",
              "    .dataframe thead th {\n",
              "        text-align: right;\n",
              "    }\n",
              "</style>\n",
              "<table border=\"1\" class=\"dataframe\">\n",
              "  <thead>\n",
              "    <tr style=\"text-align: right;\">\n",
              "      <th></th>\n",
              "      <th>description</th>\n",
              "      <th>medical_specialty</th>\n",
              "      <th>sample_name</th>\n",
              "      <th>transcription</th>\n",
              "      <th>keywords</th>\n",
              "    </tr>\n",
              "  </thead>\n",
              "  <tbody>\n",
              "    <tr>\n",
              "      <th>0</th>\n",
              "      <td>A 23-year-old white female presents with comp...</td>\n",
              "      <td>Allergy / Immunology</td>\n",
              "      <td>Allergic Rhinitis</td>\n",
              "      <td>SUBJECTIVE:,  This 23-year-old white female pr...</td>\n",
              "      <td>allergy / immunology, allergic rhinitis, aller...</td>\n",
              "    </tr>\n",
              "    <tr>\n",
              "      <th>1</th>\n",
              "      <td>Consult for laparoscopic gastric bypass.</td>\n",
              "      <td>Bariatrics</td>\n",
              "      <td>Laparoscopic Gastric Bypass Consult - 2</td>\n",
              "      <td>PAST MEDICAL HISTORY:, He has difficulty climb...</td>\n",
              "      <td>bariatrics, laparoscopic gastric bypass, weigh...</td>\n",
              "    </tr>\n",
              "    <tr>\n",
              "      <th>2</th>\n",
              "      <td>Consult for laparoscopic gastric bypass.</td>\n",
              "      <td>Bariatrics</td>\n",
              "      <td>Laparoscopic Gastric Bypass Consult - 1</td>\n",
              "      <td>HISTORY OF PRESENT ILLNESS: , I have seen ABC ...</td>\n",
              "      <td>bariatrics, laparoscopic gastric bypass, heart...</td>\n",
              "    </tr>\n",
              "    <tr>\n",
              "      <th>3</th>\n",
              "      <td>2-D M-Mode. Doppler.</td>\n",
              "      <td>Cardiovascular / Pulmonary</td>\n",
              "      <td>2-D Echocardiogram - 1</td>\n",
              "      <td>2-D M-MODE: , ,1.  Left atrial enlargement wit...</td>\n",
              "      <td>cardiovascular / pulmonary, 2-d m-mode, dopple...</td>\n",
              "    </tr>\n",
              "    <tr>\n",
              "      <th>4</th>\n",
              "      <td>2-D Echocardiogram</td>\n",
              "      <td>Cardiovascular / Pulmonary</td>\n",
              "      <td>2-D Echocardiogram - 2</td>\n",
              "      <td>1.  The left ventricular cavity size and wall ...</td>\n",
              "      <td>cardiovascular / pulmonary, 2-d, doppler, echo...</td>\n",
              "    </tr>\n",
              "  </tbody>\n",
              "</table>\n",
              "</div>\n",
              "      <button class=\"colab-df-convert\" onclick=\"convertToInteractive('df-c32da5ff-e5ab-4ab0-9b4d-e833df05c94c')\"\n",
              "              title=\"Convert this dataframe to an interactive table.\"\n",
              "              style=\"display:none;\">\n",
              "        \n",
              "  <svg xmlns=\"http://www.w3.org/2000/svg\" height=\"24px\"viewBox=\"0 0 24 24\"\n",
              "       width=\"24px\">\n",
              "    <path d=\"M0 0h24v24H0V0z\" fill=\"none\"/>\n",
              "    <path d=\"M18.56 5.44l.94 2.06.94-2.06 2.06-.94-2.06-.94-.94-2.06-.94 2.06-2.06.94zm-11 1L8.5 8.5l.94-2.06 2.06-.94-2.06-.94L8.5 2.5l-.94 2.06-2.06.94zm10 10l.94 2.06.94-2.06 2.06-.94-2.06-.94-.94-2.06-.94 2.06-2.06.94z\"/><path d=\"M17.41 7.96l-1.37-1.37c-.4-.4-.92-.59-1.43-.59-.52 0-1.04.2-1.43.59L10.3 9.45l-7.72 7.72c-.78.78-.78 2.05 0 2.83L4 21.41c.39.39.9.59 1.41.59.51 0 1.02-.2 1.41-.59l7.78-7.78 2.81-2.81c.8-.78.8-2.07 0-2.86zM5.41 20L4 18.59l7.72-7.72 1.47 1.35L5.41 20z\"/>\n",
              "  </svg>\n",
              "      </button>\n",
              "      \n",
              "  <style>\n",
              "    .colab-df-container {\n",
              "      display:flex;\n",
              "      flex-wrap:wrap;\n",
              "      gap: 12px;\n",
              "    }\n",
              "\n",
              "    .colab-df-convert {\n",
              "      background-color: #E8F0FE;\n",
              "      border: none;\n",
              "      border-radius: 50%;\n",
              "      cursor: pointer;\n",
              "      display: none;\n",
              "      fill: #1967D2;\n",
              "      height: 32px;\n",
              "      padding: 0 0 0 0;\n",
              "      width: 32px;\n",
              "    }\n",
              "\n",
              "    .colab-df-convert:hover {\n",
              "      background-color: #E2EBFA;\n",
              "      box-shadow: 0px 1px 2px rgba(60, 64, 67, 0.3), 0px 1px 3px 1px rgba(60, 64, 67, 0.15);\n",
              "      fill: #174EA6;\n",
              "    }\n",
              "\n",
              "    [theme=dark] .colab-df-convert {\n",
              "      background-color: #3B4455;\n",
              "      fill: #D2E3FC;\n",
              "    }\n",
              "\n",
              "    [theme=dark] .colab-df-convert:hover {\n",
              "      background-color: #434B5C;\n",
              "      box-shadow: 0px 1px 3px 1px rgba(0, 0, 0, 0.15);\n",
              "      filter: drop-shadow(0px 1px 2px rgba(0, 0, 0, 0.3));\n",
              "      fill: #FFFFFF;\n",
              "    }\n",
              "  </style>\n",
              "\n",
              "      <script>\n",
              "        const buttonEl =\n",
              "          document.querySelector('#df-c32da5ff-e5ab-4ab0-9b4d-e833df05c94c button.colab-df-convert');\n",
              "        buttonEl.style.display =\n",
              "          google.colab.kernel.accessAllowed ? 'block' : 'none';\n",
              "\n",
              "        async function convertToInteractive(key) {\n",
              "          const element = document.querySelector('#df-c32da5ff-e5ab-4ab0-9b4d-e833df05c94c');\n",
              "          const dataTable =\n",
              "            await google.colab.kernel.invokeFunction('convertToInteractive',\n",
              "                                                     [key], {});\n",
              "          if (!dataTable) return;\n",
              "\n",
              "          const docLinkHtml = 'Like what you see? Visit the ' +\n",
              "            '<a target=\"_blank\" href=https://colab.research.google.com/notebooks/data_table.ipynb>data table notebook</a>'\n",
              "            + ' to learn more about interactive tables.';\n",
              "          element.innerHTML = '';\n",
              "          dataTable['output_type'] = 'display_data';\n",
              "          await google.colab.output.renderOutput(dataTable, element);\n",
              "          const docLink = document.createElement('div');\n",
              "          docLink.innerHTML = docLinkHtml;\n",
              "          element.appendChild(docLink);\n",
              "        }\n",
              "      </script>\n",
              "    </div>\n",
              "  </div>\n",
              "  "
            ]
          },
          "metadata": {},
          "execution_count": 5
        }
      ],
      "source": [
        "mt = pd.read_csv('mtsamples.csv', index_col = 0)\n",
        "print(len(mt))\n",
        "mt.head()"
      ]
    },
    {
      "cell_type": "code",
      "execution_count": 6,
      "metadata": {
        "colab": {
          "base_uri": "https://localhost:8080/"
        },
        "id": "a6LBtpd8_vgr",
        "outputId": "c2f6c63e-bc2b-4206-d71b-17a495e07b35"
      },
      "outputs": [
        {
          "output_type": "stream",
          "name": "stdout",
          "text": [
            "Most frequent medical specialties:\n"
          ]
        },
        {
          "output_type": "execute_result",
          "data": {
            "text/plain": [
              "[(' Surgery', 1103),\n",
              " (' Consult - History and Phy.', 516),\n",
              " (' Cardiovascular / Pulmonary', 372),\n",
              " (' Orthopedic', 355),\n",
              " (' Radiology', 273),\n",
              " (' General Medicine', 259)]"
            ]
          },
          "metadata": {},
          "execution_count": 6
        }
      ],
      "source": [
        "count = Counter(mt.medical_specialty).most_common()[0:6]\n",
        "print('Most frequent medical specialties:')\n",
        "count"
      ]
    },
    {
      "cell_type": "code",
      "execution_count": 7,
      "metadata": {
        "colab": {
          "base_uri": "https://localhost:8080/",
          "height": 223
        },
        "id": "7SJkHyRv_vgs",
        "outputId": "cad86a5a-aaac-457d-c0be-bed9cd297ea3"
      },
      "outputs": [
        {
          "output_type": "stream",
          "name": "stdout",
          "text": [
            "2523\n"
          ]
        },
        {
          "output_type": "execute_result",
          "data": {
            "text/plain": [
              "              medical_specialty  \\\n",
              "3    Cardiovascular / Pulmonary   \n",
              "4    Cardiovascular / Pulmonary   \n",
              "7    Cardiovascular / Pulmonary   \n",
              "9    Cardiovascular / Pulmonary   \n",
              "11   Cardiovascular / Pulmonary   \n",
              "\n",
              "                                        transcription  \n",
              "3   2-D M-MODE: , ,1.  Left atrial enlargement wit...  \n",
              "4   1.  The left ventricular cavity size and wall ...  \n",
              "7   2-D ECHOCARDIOGRAM,Multiple views of the heart...  \n",
              "9   DESCRIPTION:,1.  Normal cardiac chambers size....  \n",
              "11  2-D STUDY,1. Mild aortic stenosis, widely calc...  "
            ],
            "text/html": [
              "\n",
              "  <div id=\"df-431b6c02-8b63-4d5b-a6ca-f3785e447200\">\n",
              "    <div class=\"colab-df-container\">\n",
              "      <div>\n",
              "<style scoped>\n",
              "    .dataframe tbody tr th:only-of-type {\n",
              "        vertical-align: middle;\n",
              "    }\n",
              "\n",
              "    .dataframe tbody tr th {\n",
              "        vertical-align: top;\n",
              "    }\n",
              "\n",
              "    .dataframe thead th {\n",
              "        text-align: right;\n",
              "    }\n",
              "</style>\n",
              "<table border=\"1\" class=\"dataframe\">\n",
              "  <thead>\n",
              "    <tr style=\"text-align: right;\">\n",
              "      <th></th>\n",
              "      <th>medical_specialty</th>\n",
              "      <th>transcription</th>\n",
              "    </tr>\n",
              "  </thead>\n",
              "  <tbody>\n",
              "    <tr>\n",
              "      <th>3</th>\n",
              "      <td>Cardiovascular / Pulmonary</td>\n",
              "      <td>2-D M-MODE: , ,1.  Left atrial enlargement wit...</td>\n",
              "    </tr>\n",
              "    <tr>\n",
              "      <th>4</th>\n",
              "      <td>Cardiovascular / Pulmonary</td>\n",
              "      <td>1.  The left ventricular cavity size and wall ...</td>\n",
              "    </tr>\n",
              "    <tr>\n",
              "      <th>7</th>\n",
              "      <td>Cardiovascular / Pulmonary</td>\n",
              "      <td>2-D ECHOCARDIOGRAM,Multiple views of the heart...</td>\n",
              "    </tr>\n",
              "    <tr>\n",
              "      <th>9</th>\n",
              "      <td>Cardiovascular / Pulmonary</td>\n",
              "      <td>DESCRIPTION:,1.  Normal cardiac chambers size....</td>\n",
              "    </tr>\n",
              "    <tr>\n",
              "      <th>11</th>\n",
              "      <td>Cardiovascular / Pulmonary</td>\n",
              "      <td>2-D STUDY,1. Mild aortic stenosis, widely calc...</td>\n",
              "    </tr>\n",
              "  </tbody>\n",
              "</table>\n",
              "</div>\n",
              "      <button class=\"colab-df-convert\" onclick=\"convertToInteractive('df-431b6c02-8b63-4d5b-a6ca-f3785e447200')\"\n",
              "              title=\"Convert this dataframe to an interactive table.\"\n",
              "              style=\"display:none;\">\n",
              "        \n",
              "  <svg xmlns=\"http://www.w3.org/2000/svg\" height=\"24px\"viewBox=\"0 0 24 24\"\n",
              "       width=\"24px\">\n",
              "    <path d=\"M0 0h24v24H0V0z\" fill=\"none\"/>\n",
              "    <path d=\"M18.56 5.44l.94 2.06.94-2.06 2.06-.94-2.06-.94-.94-2.06-.94 2.06-2.06.94zm-11 1L8.5 8.5l.94-2.06 2.06-.94-2.06-.94L8.5 2.5l-.94 2.06-2.06.94zm10 10l.94 2.06.94-2.06 2.06-.94-2.06-.94-.94-2.06-.94 2.06-2.06.94z\"/><path d=\"M17.41 7.96l-1.37-1.37c-.4-.4-.92-.59-1.43-.59-.52 0-1.04.2-1.43.59L10.3 9.45l-7.72 7.72c-.78.78-.78 2.05 0 2.83L4 21.41c.39.39.9.59 1.41.59.51 0 1.02-.2 1.41-.59l7.78-7.78 2.81-2.81c.8-.78.8-2.07 0-2.86zM5.41 20L4 18.59l7.72-7.72 1.47 1.35L5.41 20z\"/>\n",
              "  </svg>\n",
              "      </button>\n",
              "      \n",
              "  <style>\n",
              "    .colab-df-container {\n",
              "      display:flex;\n",
              "      flex-wrap:wrap;\n",
              "      gap: 12px;\n",
              "    }\n",
              "\n",
              "    .colab-df-convert {\n",
              "      background-color: #E8F0FE;\n",
              "      border: none;\n",
              "      border-radius: 50%;\n",
              "      cursor: pointer;\n",
              "      display: none;\n",
              "      fill: #1967D2;\n",
              "      height: 32px;\n",
              "      padding: 0 0 0 0;\n",
              "      width: 32px;\n",
              "    }\n",
              "\n",
              "    .colab-df-convert:hover {\n",
              "      background-color: #E2EBFA;\n",
              "      box-shadow: 0px 1px 2px rgba(60, 64, 67, 0.3), 0px 1px 3px 1px rgba(60, 64, 67, 0.15);\n",
              "      fill: #174EA6;\n",
              "    }\n",
              "\n",
              "    [theme=dark] .colab-df-convert {\n",
              "      background-color: #3B4455;\n",
              "      fill: #D2E3FC;\n",
              "    }\n",
              "\n",
              "    [theme=dark] .colab-df-convert:hover {\n",
              "      background-color: #434B5C;\n",
              "      box-shadow: 0px 1px 3px 1px rgba(0, 0, 0, 0.15);\n",
              "      filter: drop-shadow(0px 1px 2px rgba(0, 0, 0, 0.3));\n",
              "      fill: #FFFFFF;\n",
              "    }\n",
              "  </style>\n",
              "\n",
              "      <script>\n",
              "        const buttonEl =\n",
              "          document.querySelector('#df-431b6c02-8b63-4d5b-a6ca-f3785e447200 button.colab-df-convert');\n",
              "        buttonEl.style.display =\n",
              "          google.colab.kernel.accessAllowed ? 'block' : 'none';\n",
              "\n",
              "        async function convertToInteractive(key) {\n",
              "          const element = document.querySelector('#df-431b6c02-8b63-4d5b-a6ca-f3785e447200');\n",
              "          const dataTable =\n",
              "            await google.colab.kernel.invokeFunction('convertToInteractive',\n",
              "                                                     [key], {});\n",
              "          if (!dataTable) return;\n",
              "\n",
              "          const docLinkHtml = 'Like what you see? Visit the ' +\n",
              "            '<a target=\"_blank\" href=https://colab.research.google.com/notebooks/data_table.ipynb>data table notebook</a>'\n",
              "            + ' to learn more about interactive tables.';\n",
              "          element.innerHTML = '';\n",
              "          dataTable['output_type'] = 'display_data';\n",
              "          await google.colab.output.renderOutput(dataTable, element);\n",
              "          const docLink = document.createElement('div');\n",
              "          docLink.innerHTML = docLinkHtml;\n",
              "          element.appendChild(docLink);\n",
              "        }\n",
              "      </script>\n",
              "    </div>\n",
              "  </div>\n",
              "  "
            ]
          },
          "metadata": {},
          "execution_count": 7
        }
      ],
      "source": [
        "cols = [' Surgery',' Consult - History and Phy.',' Cardiovascular / Pulmonary','Orthopedic',' Radiology',' General Medicine']\n",
        "data = mt[mt.medical_specialty.isin(cols)][['medical_specialty','transcription']]\n",
        "print(len(data))\n",
        "data.head()"
      ]
    },
    {
      "cell_type": "code",
      "execution_count": 8,
      "metadata": {
        "id": "pvemOSKD_vgs"
      },
      "outputs": [],
      "source": [
        "le = LabelEncoder()\n",
        "le.fit(data.medical_specialty)\n",
        "data.medical_specialty = le.transform(data.medical_specialty)"
      ]
    },
    {
      "cell_type": "markdown",
      "metadata": {
        "id": "9z1xti84_vgt"
      },
      "source": [
        "After filtration, the number of rows is cut almost in half, from 4999 to 2523"
      ]
    },
    {
      "cell_type": "markdown",
      "metadata": {
        "id": "gwCVCZeL_vgu"
      },
      "source": [
        "**3.2) (5 points)** Now convert your data into train, test and validation set. Shuffle the rows, and split them with ratios of (train:60%, valid:20%, test:20%). Set the random seed to 2022. Please follow the steps from https://pytorch.org/docs/stable/notes/randomness.html to set all the seeds to make the results reproducible."
      ]
    },
    {
      "cell_type": "code",
      "execution_count": null,
      "metadata": {
        "id": "uh06NB39_vgu"
      },
      "outputs": [],
      "source": [
        "torch.manual_seed(2022)\n",
        "random.seed(2022)"
      ]
    },
    {
      "cell_type": "code",
      "execution_count": 9,
      "metadata": {
        "id": "DCcHwX_b_vgv"
      },
      "outputs": [],
      "source": [
        "data = data[data.transcription.notnull()]\n",
        "full_data, test_data = train_test_split(data, test_size = 0.20, shuffle = True, random_state = 42)\n",
        "train_data, val_data = train_test_split(full_data, test_size = 0.25, shuffle = True, random_state = 42)\n",
        "\n",
        "train_data.index = np.arange(len(train_data))\n",
        "val_data.index = np.arange(len(val_data))\n",
        "test_data.index = np.arange(len(test_data))"
      ]
    },
    {
      "cell_type": "markdown",
      "metadata": {
        "id": "YzY7p8ft_vgv"
      },
      "source": [
        "**3.3) (5 points)** Create a function to create vocabulary from the training data. Only use the transcription column for this. Use the tokenization scheme of your choice and create a vocabulary."
      ]
    },
    {
      "cell_type": "code",
      "execution_count": 9,
      "metadata": {
        "colab": {
          "base_uri": "https://localhost:8080/"
        },
        "id": "cRV8DHJS_vgv",
        "outputId": "81d4ae35-8c5e-4a51-dc70-f128d1157cf4"
      },
      "outputs": [
        {
          "output_type": "execute_result",
          "data": {
            "text/plain": [
              "0       TITLE OF OPERATION:,  Mediastinal exploration ...\n",
              "1       MALE PHYSICAL EXAMINATION,Eye:  Eyelids normal...\n",
              "2       PREOPERATIVE DIAGNOSIS (ES):, Osteoarthritis, ...\n",
              "3       PREOPERATIVE DIAGNOSES:,1.  Chronic renal fail...\n",
              "4                                           INDICATIONS:,\n",
              "                              ...                        \n",
              "1498    PREOPERATIVE DIAGNOSIS,Mammary hypertrophy wit...\n",
              "1499    INDICATION:,  Coronary artery disease, severe ...\n",
              "1500    CHIEF COMPLAINT: , Iron deficiency anemia.,HIS...\n",
              "1501    EXAM: , Left Heart Catheterization,REASON FOR ...\n",
              "1502    CC: ,Gait difficulty.,HX: ,This 59 y/o RHF was...\n",
              "Name: transcription, Length: 1503, dtype: object"
            ]
          },
          "metadata": {},
          "execution_count": 9
        }
      ],
      "source": [
        "train_data['transcription']"
      ]
    },
    {
      "cell_type": "code",
      "execution_count": 10,
      "metadata": {
        "colab": {
          "base_uri": "https://localhost:8080/"
        },
        "id": "0OvGyJMa_vgw",
        "outputId": "52bbb68a-295f-4b56-a7c1-4e652f2d14de"
      },
      "outputs": [
        {
          "output_type": "stream",
          "name": "stdout",
          "text": [
            "8422\n"
          ]
        }
      ],
      "source": [
        "UNK = \"<UNK>\"\n",
        "PAD = \"<PAD>\"\n",
        "\n",
        "def build_vocab(sentences, min_count=3, max_vocab=None):\n",
        "    \"\"\"\n",
        "    Build vocabulary from sentences (list of strings)\n",
        "    \"\"\"\n",
        "    # keep track of the number of appearance of each word\n",
        "    word_count = Counter()\n",
        "    \n",
        "    for sentence in sentences:\n",
        "        # Regular expression operations: [] (indicate a set of characters), \n",
        "        sentence = re.sub('[\\\\(\\[#.!?,\\'\\/\\])0-9]', ' ', str(sentence))\n",
        "        word_count.update(word_tokenize(sentence.lower()))\n",
        "    \n",
        "    vocabulary = list([w for w in word_count if word_count[w] > min_count]) + [UNK, PAD]\n",
        "    indices = dict(zip(vocabulary, range(len(vocabulary))))\n",
        "\n",
        "    return vocabulary, indices\n",
        "\n",
        "vocabulary, vocab_indices = build_vocab(train_data['transcription'])\n",
        "\n",
        "print(len(vocabulary))"
      ]
    },
    {
      "cell_type": "markdown",
      "metadata": {
        "id": "nFUJxDQM_vgx"
      },
      "source": [
        "**3.4) (10 points)** Write a dataloader and collate function so that we can begin to train our networks! You can choose to use either the complete transcription text or fix a maximum length of transcription text as input for your model."
      ]
    },
    {
      "cell_type": "code",
      "execution_count": 93,
      "metadata": {
        "id": "hCiPJszN_vgy"
      },
      "outputs": [],
      "source": [
        "class Dataset(Dataset):\n",
        "    def __init__(self, vocab_index, df, label = 'medical_specialty'):\n",
        "        self.vocab_index = vocab_index\n",
        "        self.df = df\n",
        "        self.label = label\n",
        "    \n",
        "    def __len__(self):\n",
        "        return len(self.df)\n",
        "    \n",
        "    def __getitem__(self, key):\n",
        "        sentence = self.df.loc[key, 'transcription']\n",
        "        sentence = re.sub('[\\\\(\\[#.!?,\\'\\/\\])0-9]', ' ', str(sentence))\n",
        "        token_indices = np.array([self.vocab_index[word] if word in self.vocab_index else self.vocab_index['<UNK>'] for word in word_tokenize(sentence.lower())])\n",
        "        return (torch.tensor(token_indices) , self.df.loc[key, self.label])\n",
        "\n",
        "\n",
        "def pad_collate(batch):\n",
        "    (xx, yy) = zip(*batch)\n",
        "    x_lens = [len(x) for x in xx]\n",
        "    \n",
        "    # I want to    eat an     apple\n",
        "    # I am   going to  sleep  PAD  \n",
        "    # batch_first: output will be in B x T x * if True, or in T x B x * otherwise\n",
        "    xx_pad = pad_sequence(xx, batch_first=True, padding_value=len(vocabulary)-1)\n",
        "\n",
        "    return torch.as_tensor(xx_pad), torch.as_tensor(x_lens), torch.LongTensor(yy)\n",
        "    \n",
        "\n",
        "BATCH_SIZE = 32\n",
        "# shuffle: set to True to have the data reshuffled at every epoch\n",
        "train_loader = DataLoader(Dataset(vocab_indices, train_data),\n",
        "                          batch_size=BATCH_SIZE,\n",
        "                          shuffle=True,\n",
        "                          collate_fn = pad_collate)\n",
        "val_loader = DataLoader(Dataset(vocab_indices, val_data),\n",
        "                          batch_size=BATCH_SIZE,\n",
        "                          shuffle=True,\n",
        "                          collate_fn = pad_collate)\n",
        "test_loader = DataLoader(Dataset(vocab_indices, test_data),\n",
        "                         batch_size=BATCH_SIZE,\n",
        "                         shuffle=True,\n",
        "                         collate_fn = pad_collate)"
      ]
    },
    {
      "cell_type": "code",
      "execution_count": 12,
      "metadata": {
        "colab": {
          "base_uri": "https://localhost:8080/"
        },
        "id": "ti2E0qVK_vgy",
        "outputId": "c6e9fc2e-ec6b-457e-ba5e-55441cdd61b8"
      },
      "outputs": [
        {
          "output_type": "stream",
          "name": "stdout",
          "text": [
            "********************************Padded sequence*********************************\n",
            "tensor([ 355,   62,    3,  ..., 8421, 8421, 8421])\n",
            "*******************************Length of sequence*******************************\n",
            "tensor([1183, 1582,  162,  628,  367,  567,  452,  232,  346,  433,  571,  432,\n",
            "         158,  367,  286,  580,  161,   11,  247,  167,  253,  693,  412,  549,\n",
            "         671,  232,  987,  656,  610,  599,  604, 1155])\n",
            "*******************************Label of sequence********************************\n",
            "tensor([4, 0, 4, 1, 2, 0, 1, 4, 4, 0, 3, 1, 3, 1, 4, 4, 0, 1, 4, 3, 4, 4, 4, 4,\n",
            "        0, 3, 4, 1, 4, 1, 4, 0])\n"
          ]
        }
      ],
      "source": [
        "sample_input = next(iter(train_loader))\n",
        "print(\"Padded sequence\".center(80, '*'))\n",
        "print(sample_input[0][0])\n",
        "print(\"Length of sequence\".center(80, '*'))\n",
        "print(sample_input[1])\n",
        "print(\"Label of sequence\".center(80, '*'))\n",
        "print(sample_input[2])"
      ]
    },
    {
      "cell_type": "markdown",
      "metadata": {
        "id": "-GAH8qie_vgz"
      },
      "source": [
        "**3.5) (10 points)** Now you are ready to build your sequence classification model!\n",
        "\n",
        "First, Build a simple GRU model that takes as input the text indices from the vocabulary, and ends with a softmax over total number of classes. Use the embedding and hidden dimension of your choice. \n",
        "\n",
        "**Please train your model to reach at the least 50% accuracy on the test set.**\n",
        "\n",
        "At each epoch, compute and print **Average Cross Entropy loss** and **Accuracy** on both **train and validation set** \n",
        "\n",
        "Plot your validation and train loss over different epochs. \n",
        "\n",
        "Plot your validation and train accuracies over different epochs. \n",
        "\n",
        "Finally print accuracy on the test set."
      ]
    },
    {
      "cell_type": "code",
      "execution_count": 19,
      "metadata": {
        "tags": [],
        "id": "XUcsc1SG_vg0"
      },
      "outputs": [],
      "source": [
        "class GRU(nn.Module):\n",
        "    \n",
        "    def __init__(self, hidden_dim, output_dim, vocab_size, embedding_dim):\n",
        "        super(GRU, self).__init__()\n",
        "        self.emb = nn.Embedding(vocab_size, embedding_dim, padding_idx=vocab_size-1)\n",
        "        self.hidden_dim = hidden_dim\n",
        "        self.gru = nn.GRU(embedding_dim, hidden_dim, batch_first=True)\n",
        "        self.fc = nn.Linear(hidden_dim, output_dim)\n",
        "        self.softmax = nn.Softmax()\n",
        "    \n",
        "    def forward(self, x, x_len):\n",
        "        x = self.emb(x)\n",
        "        _, last_hidden = self.gru(pack_padded_sequence(x, x_len.cpu(), batch_first=True, enforce_sorted=False))\n",
        "        out = self.softmax(self.fc(last_hidden.view(-1, self.hidden_dim)))\n",
        "        \n",
        "        return out"
      ]
    },
    {
      "cell_type": "code",
      "execution_count": 40,
      "metadata": {
        "id": "3CElmIUs_vg0"
      },
      "outputs": [],
      "source": [
        "def train(model, train_loader=train_loader, val_loader=val_loader, learning_rate=0.005, num_epoch=10):\n",
        "    train_acc, val_acc, train_loss, val_loss = {},{},{},{}\n",
        "    best_acc = 0\n",
        "    # Training steps\n",
        "    start_time = time.time()\n",
        "    loss_fn = nn.CrossEntropyLoss()\n",
        "    optimizer = torch.optim.Adam(model.parameters(), lr=learning_rate, weight_decay=10**(-5))\n",
        "    for epoch in range(num_epoch):\n",
        "        correct, total = 0,0\n",
        "        train_pred, train_truth = [],[]\n",
        "        model.train()\n",
        "        for i, (data, data_len, labels) in enumerate(train_loader):\n",
        "            data, data_len, labels = data.to(device), data_len.to(device), labels.to(device)\n",
        "            outputs = model(data, data_len)\n",
        "            model.zero_grad()\n",
        "            loss = loss_fn(outputs.squeeze(), labels)\n",
        "            pred = outputs.data.max(-1)[1]\n",
        "            train_pred += list(pred.cpu().numpy())\n",
        "            train_truth += list(labels.cpu().numpy())\n",
        "            total += labels.size(0)\n",
        "            correct += (pred == labels).sum()\n",
        "            loss.backward()\n",
        "            optimizer.step()\n",
        "        train_loss[epoch] = loss.item()\n",
        "        train_acc[epoch] = correct / total\n",
        "        print('Train set | epoch: {:3d} | Loss: {:6.4f} | Acc: {:6.4f}'.format(epoch, train_loss[epoch], train_acc[epoch]))\n",
        "                \n",
        "        # Validation steps\n",
        "        correct, total = 0,0\n",
        "        val_pred, val_truth = [],[]\n",
        "        model.eval()\n",
        "        with torch.no_grad():\n",
        "            for i, (data, data_len, labels) in enumerate(val_loader):\n",
        "                data, data_len, labels = data.to(device), data_len.to(device), labels.to(device)\n",
        "                outputs = model(data, data_len)\n",
        "                loss = loss_fn(outputs.squeeze(), labels)\n",
        "                pred = outputs.data.max(-1)[1]\n",
        "                val_pred += list(pred.cpu().numpy())\n",
        "                val_truth += list(labels.cpu().numpy())\n",
        "                total += labels.size(0)\n",
        "                correct += (pred == labels).sum()\n",
        "            val_loss[epoch] = loss.item()\n",
        "            val_acc[epoch] = correct / total\n",
        "            if val_acc[epoch] > best_acc:\n",
        "                best_acc = val_acc[epoch]\n",
        "                best_model_wts = model.state_dict()\n",
        "            print('Val set | epoch: {:3d} | Loss: {:6.4f} | Acc: {:6.4f}'.format(epoch, val_loss[epoch], val_acc[epoch]))\n",
        "            elapse = time.strftime('%H:%M:%S', time.gmtime(int((time.time() - start_time))))\n",
        "            print('Time elapse: {:>9}'.format(elapse))\n",
        "    model.load_state_dict(best_model_wts)\n",
        "    return model, train_acc, val_acc, train_loss, val_loss"
      ]
    },
    {
      "cell_type": "code",
      "execution_count": 15,
      "metadata": {
        "id": "G0oISGlV_vg1"
      },
      "outputs": [],
      "source": [
        "def evaluate(model, test_loader=test_loader):\n",
        "    correct, total = 0,0\n",
        "    test_pred, test_truth = [],[]\n",
        "    model.eval()\n",
        "    with torch.no_grad():\n",
        "        for i, (data, data_len, labels) in enumerate(test_loader):\n",
        "            data, data_len, labels = data.to(device), data_len.to(device), labels.to(device)\n",
        "            outputs = model(data, data_len)\n",
        "            pred = outputs.data.max(-1)[1]\n",
        "            test_pred += list(pred.cpu().numpy())\n",
        "            test_truth += list(labels.cpu().numpy())\n",
        "            total += labels.size(0)\n",
        "            correct += (pred == labels).sum()\n",
        "        acc = correct / total\n",
        "    print('Test set | Acc: {:6.4f}'.format(acc))"
      ]
    },
    {
      "cell_type": "code",
      "execution_count": null,
      "metadata": {
        "collapsed": true,
        "jupyter": {
          "outputs_hidden": true
        },
        "tags": [],
        "id": "07oNGq2F_vg1",
        "outputId": "ad1029f4-3e7e-4d27-d5b0-4e9ade90ac3f"
      },
      "outputs": [
        {
          "name": "stderr",
          "output_type": "stream",
          "text": [
            "C:\\Users\\sanjs\\AppData\\Local\\Temp/ipykernel_13764/382088191.py:14: UserWarning: Implicit dimension choice for softmax has been deprecated. Change the call to include dim=X as an argument.\n",
            "  out = self.softmax(self.fc(last_hidden.view(-1, self.hidden_dim)))\n"
          ]
        },
        {
          "name": "stdout",
          "output_type": "stream",
          "text": [
            "Train set | epoch:   0 |     20/    47 batches | Loss: 1.7869\n",
            "Train set | epoch:   0 |     40/    47 batches | Loss: 1.7569\n",
            "Test set | Accuracy: 42.2488 | time elapse:  00:05:14\n",
            "Train set | epoch:   1 |     20/    47 batches | Loss: 1.7188\n",
            "Train set | epoch:   1 |     40/    47 batches | Loss: 1.5691\n",
            "Test set | Accuracy: 43.1138 | time elapse:  00:10:20\n",
            "Train set | epoch:   2 |     20/    47 batches | Loss: 1.5026\n",
            "Train set | epoch:   2 |     40/    47 batches | Loss: 1.6997\n",
            "Test set | Accuracy: 43.1138 | time elapse:  00:14:59\n",
            "Train set | epoch:   3 |     20/    47 batches | Loss: 1.5473\n",
            "Train set | epoch:   3 |     40/    47 batches | Loss: 1.4966\n",
            "Test set | Accuracy: 43.1138 | time elapse:  00:19:42\n",
            "Train set | epoch:   4 |     20/    47 batches | Loss: 1.5557\n",
            "Train set | epoch:   4 |     40/    47 batches | Loss: 1.5628\n",
            "Test set | Accuracy: 43.1803 | time elapse:  00:23:53\n",
            "Train set | epoch:   5 |     20/    47 batches | Loss: 1.5207\n",
            "Train set | epoch:   5 |     40/    47 batches | Loss: 1.4495\n",
            "Test set | Accuracy: 44.7771 | time elapse:  00:28:51\n",
            "Train set | epoch:   6 |     20/    47 batches | Loss: 1.5463\n",
            "Train set | epoch:   6 |     40/    47 batches | Loss: 1.5781\n",
            "Test set | Accuracy: 45.2428 | time elapse:  00:33:46\n",
            "Train set | epoch:   7 |     20/    47 batches | Loss: 1.5970\n",
            "Train set | epoch:   7 |     40/    47 batches | Loss: 1.4679\n",
            "Test set | Accuracy: 47.1723 | time elapse:  00:39:03\n",
            "Train set | epoch:   8 |     20/    47 batches | Loss: 1.5598\n",
            "Train set | epoch:   8 |     40/    47 batches | Loss: 1.5199\n",
            "Test set | Accuracy: 48.0373 | time elapse:  00:47:16\n",
            "Train set | epoch:   9 |     20/    47 batches | Loss: 1.4504\n",
            "Train set | epoch:   9 |     40/    47 batches | Loss: 1.6234\n",
            "Test set | Accuracy: 49.7671 | time elapse:  00:54:47\n"
          ]
        }
      ],
      "source": [
        "gru_model = GRU(20, 6, len(vocabulary), 10).to(device)\n",
        "train(gru_model)"
      ]
    },
    {
      "cell_type": "code",
      "execution_count": 20,
      "metadata": {
        "tags": [],
        "colab": {
          "base_uri": "https://localhost:8080/"
        },
        "id": "VwhaApCJ_vg2",
        "outputId": "316039f7-5760-4a05-859b-3dcb4ee896fb"
      },
      "outputs": [
        {
          "output_type": "stream",
          "name": "stderr",
          "text": [
            "/usr/local/lib/python3.7/dist-packages/ipykernel_launcher.py:14: UserWarning: Implicit dimension choice for softmax has been deprecated. Change the call to include dim=X as an argument.\n",
            "  \n"
          ]
        },
        {
          "output_type": "stream",
          "name": "stdout",
          "text": [
            "Train set | epoch:   0 | Loss: 1.4656 | Acc: 0.4125\n",
            "Val set | epoch:   0 | Loss: 1.4457 | Acc: 0.4502\n",
            "Time elapse:  00:00:06\n",
            "Train set | epoch:   1 | Loss: 1.4828 | Acc: 0.4731\n",
            "Val set | epoch:   1 | Loss: 1.3607 | Acc: 0.4502\n",
            "Time elapse:  00:00:13\n",
            "Train set | epoch:   2 | Loss: 1.4122 | Acc: 0.5635\n",
            "Val set | epoch:   2 | Loss: 1.1408 | Acc: 0.5916\n",
            "Time elapse:  00:00:19\n",
            "Train set | epoch:   3 | Loss: 1.2288 | Acc: 0.6248\n",
            "Val set | epoch:   3 | Loss: 1.2264 | Acc: 0.6255\n",
            "Time elapse:  00:00:25\n",
            "Train set | epoch:   4 | Loss: 1.2793 | Acc: 0.6301\n",
            "Val set | epoch:   4 | Loss: 1.3588 | Acc: 0.6175\n",
            "Time elapse:  00:00:32\n",
            "Train set | epoch:   5 | Loss: 1.1670 | Acc: 0.6274\n",
            "Val set | epoch:   5 | Loss: 1.4437 | Acc: 0.6255\n",
            "Time elapse:  00:00:38\n",
            "Train set | epoch:   6 | Loss: 1.3854 | Acc: 0.6387\n",
            "Val set | epoch:   6 | Loss: 1.2252 | Acc: 0.6295\n",
            "Time elapse:  00:00:45\n",
            "Train set | epoch:   7 | Loss: 1.1697 | Acc: 0.6427\n",
            "Val set | epoch:   7 | Loss: 1.2713 | Acc: 0.6633\n",
            "Time elapse:  00:00:51\n",
            "Train set | epoch:   8 | Loss: 1.1701 | Acc: 0.6900\n",
            "Val set | epoch:   8 | Loss: 1.0688 | Acc: 0.6873\n",
            "Time elapse:  00:00:58\n",
            "Train set | epoch:   9 | Loss: 1.3178 | Acc: 0.7019\n",
            "Val set | epoch:   9 | Loss: 1.3072 | Acc: 0.6614\n",
            "Time elapse:  00:01:04\n"
          ]
        }
      ],
      "source": [
        "torch.manual_seed(2022)\n",
        "gru_model = GRU(30, 5, len(vocabulary), 10).to(device)\n",
        "model, train_acc, val_acc, train_loss, val_loss = train(gru_model)"
      ]
    },
    {
      "cell_type": "code",
      "execution_count": 21,
      "metadata": {
        "colab": {
          "base_uri": "https://localhost:8080/"
        },
        "id": "mr17dGRv_vg4",
        "outputId": "1484bcd0-b3b1-4282-ad20-539048c465ca"
      },
      "outputs": [
        {
          "output_type": "stream",
          "name": "stderr",
          "text": [
            "/usr/local/lib/python3.7/dist-packages/ipykernel_launcher.py:14: UserWarning: Implicit dimension choice for softmax has been deprecated. Change the call to include dim=X as an argument.\n",
            "  \n"
          ]
        },
        {
          "output_type": "stream",
          "name": "stdout",
          "text": [
            "Test set | Acc: 0.6713\n"
          ]
        }
      ],
      "source": [
        "evaluate(model)"
      ]
    },
    {
      "cell_type": "code",
      "execution_count": 46,
      "metadata": {
        "id": "CdKnJvzy_vg4"
      },
      "outputs": [],
      "source": [
        "epochs = range(10)\n",
        "trainacc, valacc = [],[]\n",
        "for i in epochs:\n",
        "  trainacc.append(train_acc[i].to('cpu').numpy())\n",
        "  valacc.append(val_acc[i].to('cpu').numpy())\n",
        "trainloss = list(train_loss.values())\n",
        "valloss = list(val_loss.values())"
      ]
    },
    {
      "cell_type": "code",
      "execution_count": 49,
      "metadata": {
        "colab": {
          "base_uri": "https://localhost:8080/",
          "height": 295
        },
        "id": "a1A2sYao_vg5",
        "outputId": "9cf406ca-8ea6-48e7-9177-eba061ca0564"
      },
      "outputs": [
        {
          "output_type": "display_data",
          "data": {
            "text/plain": [
              "<Figure size 432x288 with 1 Axes>"
            ],
            "image/png": "[encoded data removed]"
          },
          "metadata": {
            "needs_background": "light"
          }
        }
      ],
      "source": [
        "plt.plot(epochs, trainacc, label = 'train')\n",
        "plt.plot(epochs, valacc, label = 'val')\n",
        "plt.title('Training/Validation Accuracy'), plt.xlabel('Epochs'), plt.ylabel('Accuracy')\n",
        "plt.legend()\n",
        "plt.show()"
      ]
    },
    {
      "cell_type": "code",
      "execution_count": 48,
      "metadata": {
        "colab": {
          "base_uri": "https://localhost:8080/",
          "height": 295
        },
        "id": "Ry0VADpV_vg5",
        "outputId": "d0679ab8-3929-4e9e-fbad-34a48fac658f"
      },
      "outputs": [
        {
          "output_type": "display_data",
          "data": {
            "text/plain": [
              "<Figure size 432x288 with 1 Axes>"
            ],
            "image/png": "[encoded data removed]"
          },
          "metadata": {
            "needs_background": "light"
          }
        }
      ],
      "source": [
        "plt.plot(epochs, trainloss, label = 'train')\n",
        "plt.plot(epochs, valloss, label = 'val')\n",
        "plt.title('Training/Validation Accuracy'), plt.xlabel('Epochs'), plt.ylabel('Loss')\n",
        "plt.legend()\n",
        "plt.show()"
      ]
    },
    {
      "cell_type": "markdown",
      "metadata": {
        "id": "abnhiyr__vg6"
      },
      "source": [
        "**3.6) (25 points)** Now, let's finetune a sequence classification model based on BERT. Please install the Huggingface's Transformers library for this. Use the Pretrained 'bert-base-uncased' model for this problem. Please use the BERT tokenizer from the pretrained built for 'bert-base-uncased' model . Use the AdamW optimizer from the transformers library for optimization. Remember BERT uses Attention masks for input so you need to create a separate dataloader for BERT. Please keep in mind that BERT can handle maximum of 512 tokens.\n",
        "\n",
        "**Please finetune the model so that it reaches at least 60% accuracy on the test set.**\n",
        "\n",
        "The rest of your experimental setting should be the same as 3.5:\n",
        "\n",
        "At each epoch, compute and print **Average Cross Entropy loss** and **Accuracy** on both **train and validation set** \n",
        "\n",
        "Plot your validation and train loss over different epochs. \n",
        "\n",
        "Plot your validation and train accuracies over different epochs. \n",
        "\n",
        "Finally print accuracy on the test set."
      ]
    },
    {
      "cell_type": "code",
      "execution_count": 10,
      "metadata": {
        "id": "R2UcMWcu_vg6"
      },
      "outputs": [],
      "source": [
        "import transformers\n",
        "from transformers import BertTokenizer, BertModel"
      ]
    },
    {
      "cell_type": "code",
      "source": [
        "tokenizer = BertTokenizer.from_pretrained('bert-base-uncased')\n",
        "bertmodel = BertModel.from_pretrained(\"bert-base-uncased\").to(device)"
      ],
      "metadata": {
        "colab": {
          "base_uri": "https://localhost:8080/"
        },
        "id": "b0XGoHBRLcCv",
        "outputId": "1300e416-e0a7-440d-ae3e-bb65d5dfad26"
      },
      "execution_count": 11,
      "outputs": [
        {
          "output_type": "stream",
          "name": "stderr",
          "text": [
            "Some weights of the model checkpoint at bert-base-uncased were not used when initializing BertModel: ['cls.predictions.transform.dense.bias', 'cls.predictions.bias', 'cls.seq_relationship.bias', 'cls.predictions.transform.LayerNorm.weight', 'cls.predictions.transform.dense.weight', 'cls.predictions.transform.LayerNorm.bias', 'cls.seq_relationship.weight', 'cls.predictions.decoder.weight']\n",
            "- This IS expected if you are initializing BertModel from the checkpoint of a model trained on another task or with another architecture (e.g. initializing a BertForSequenceClassification model from a BertForPreTraining model).\n",
            "- This IS NOT expected if you are initializing BertModel from the checkpoint of a model that you expect to be exactly identical (initializing a BertForSequenceClassification model from a BertForSequenceClassification model).\n"
          ]
        }
      ]
    },
    {
      "cell_type": "code",
      "source": [
        "def encode(data, tokenizer):\n",
        "    input_ids = []\n",
        "    attention_mask = []\n",
        "    for text in data:\n",
        "        tokenized_text = tokenizer.encode_plus(text,max_length=512,add_special_tokens=True,padding='max_length',return_attention_mask=True,truncation=True)\n",
        "        input_ids.append(tokenized_text['input_ids'])\n",
        "        attention_mask.append(tokenized_text['attention_mask'])\n",
        "    return torch.tensor(input_ids, dtype=torch.long), torch.tensor(attention_mask, dtype=torch.long)"
      ],
      "metadata": {
        "id": "wJ1twS-JXQ7L"
      },
      "execution_count": 12,
      "outputs": []
    },
    {
      "cell_type": "code",
      "source": [
        "def get_batches(df, tokenizer, batch_size):\n",
        "    x = list(df.transcription.values)\n",
        "    for i in x:\n",
        "        i = re.sub('[\\\\(\\[#.!?,\\'\\/\\])0-9]', ' ', str(i))\n",
        "    y_indices = df.medical_specialty\n",
        "\n",
        "    y = torch.tensor(list(y_indices), dtype=torch.long)\n",
        "    input_ids, attention_mask = encode(x, tokenizer)\n",
        "    tensor_dataset = torch.utils.data.TensorDataset(input_ids, attention_mask, y)\n",
        "    tensor_randomsampler = torch.utils.data.RandomSampler(tensor_dataset)\n",
        "    tensor_dataloader = DataLoader(tensor_dataset, sampler=tensor_randomsampler, batch_size=batch_size)\n",
        "    return tensor_dataloader"
      ],
      "metadata": {
        "id": "ELX-Au8PXepE"
      },
      "execution_count": 13,
      "outputs": []
    },
    {
      "cell_type": "code",
      "source": [
        "BATCH_SIZE = 10\n",
        "train_loader_bert = get_batches(train_data, tokenizer, batch_size=BATCH_SIZE)\n",
        "val_loader_bert = get_batches(val_data, tokenizer, batch_size=BATCH_SIZE)\n",
        "test_loader_bert = get_batches(test_data, tokenizer, batch_size=BATCH_SIZE)"
      ],
      "metadata": {
        "id": "NDwKemg6Z7-J"
      },
      "execution_count": 22,
      "outputs": []
    },
    {
      "cell_type": "code",
      "source": [
        "def train_bert(model, train_loader=train_loader_bert, val_loader=val_loader_bert, learning_rate=0.005, num_epoch=10):\n",
        "    train_acc, val_acc, train_loss, val_loss = {},{},{},{}\n",
        "    best_acc = 0\n",
        "    # Training steps\n",
        "    start_time = time.time()\n",
        "    loss_fn = nn.CrossEntropyLoss()\n",
        "    optimizer = transformers.AdamW(model.parameters(),lr=learning_rate, weight_decay = 10**(-5))#, correct_bias=False)\n",
        "    #torch.optim.Adam(model.parameters(), lr=learning_rate, weight_decay=10**(-5))\n",
        "    for epoch in range(num_epoch):\n",
        "        correct, total = 0,0\n",
        "        train_pred, train_truth = [],[]\n",
        "        model.train()\n",
        "        #for i, batch_tuple in enumerate(train_loader):\n",
        "        #    batch_tuple = (t.to(device) for t in batch_tuple)\n",
        "        #    input_id, attention_mask, labels = batch_tuple\n",
        "        for i, (input_id, attention_mask, labels) in enumerate(train_loader):\n",
        "            input_id, attention_mask, labels = input_id.to(device), attention_mask.to(device), labels.to(device)\n",
        "            outputs = model(input_ids=input_id, attention_mask=attention_mask)\n",
        "            model.zero_grad()\n",
        "            loss = loss_fn(outputs.squeeze(), labels)\n",
        "            pred = outputs.input_id.max(-1)[1]\n",
        "            train_pred += list(pred.cpu().numpy())\n",
        "            train_truth += list(labels.cpu().numpy())\n",
        "            total += labels.size(0)\n",
        "            correct += (pred == labels).sum()\n",
        "            loss.backward()\n",
        "            optimizer.step()\n",
        "        train_loss[epoch] = loss.item()\n",
        "        train_acc[epoch] = correct / total\n",
        "        print('Train set | epoch: {:3d} | Loss: {:6.4f} | Acc: {:6.4f}'.format(epoch, train_loss[epoch], train_acc[epoch]))\n",
        "                \n",
        "        # Validation steps\n",
        "        correct, total = 0,0\n",
        "        val_pred, val_truth = [],[]\n",
        "        model.eval()\n",
        "        with torch.no_grad():\n",
        "            for i, (input_id, attention_mask, labels) in enumerate(val_loader):\n",
        "                input_id, attention_mask, labels = input_id.to(device), attention_mask.to(device), labels.to(device)\n",
        "                outputs = model(input_id, attention_mask)\n",
        "                loss = loss_fn(outputs.squeeze(), labels)\n",
        "                pred = outputs.input_id.max(-1)[1]\n",
        "                val_pred += list(pred.cpu().numpy())\n",
        "                val_truth += list(labels.cpu().numpy())\n",
        "                total += labels.size(0)\n",
        "                correct += (pred == labels).sum()\n",
        "            val_loss[epoch] = loss.item()\n",
        "            val_acc[epoch] = correct / total\n",
        "            if val_acc[epoch] > best_acc:\n",
        "                best_acc = val_acc[epoch]\n",
        "                best_model_wts = model.state_dict()\n",
        "            print('Val set | epoch: {:3d} | Loss: {:6.4f} | Acc: {:6.4f}'.format(epoch, val_loss[epoch], val_acc[epoch]))\n",
        "            elapse = time.strftime('%H:%M:%S', time.gmtime(int((time.time() - start_time))))\n",
        "            print('Time elapse: {:>9}'.format(elapse))\n",
        "    model.load_state_dict(best_model_wts)\n",
        "    return model, train_acc, val_acc, train_loss, val_loss"
      ],
      "metadata": {
        "id": "wQ5vrtYMUZdP"
      },
      "execution_count": 15,
      "outputs": []
    },
    {
      "cell_type": "code",
      "source": [
        "def evaluate(model, test_loader=test_loader):\n",
        "    correct, total = 0,0\n",
        "    test_pred, test_truth = [],[]\n",
        "    model.eval()\n",
        "    with torch.no_grad():\n",
        "        for i, (input_id, attention_mask, labels) in enumerate(test_loader):\n",
        "            input_id, attention_mask, labels = input_id.to(device), attention_mask.to(device), labels.to(device)\n",
        "            outputs = model(input_id, attention_mask)\n",
        "            pred = outputs.data.max(-1)[1]\n",
        "            test_pred += list(pred.cpu().numpy())\n",
        "            test_truth += list(labels.cpu().numpy())\n",
        "            total += labels.size(0)\n",
        "            correct += (pred == labels).sum()\n",
        "        acc = correct / total\n",
        "    print('Test set | Acc: {:6.4f}'.format(acc))"
      ],
      "metadata": {
        "id": "skM_hl49xgi5"
      },
      "execution_count": null,
      "outputs": []
    },
    {
      "cell_type": "code",
      "source": [
        "bert_model, train_acc_bert, val_acc_bert, train_loss_bert, val_loss_bert = train_bert(bertmodel)"
      ],
      "metadata": {
        "colab": {
          "base_uri": "https://localhost:8080/",
          "height": 418
        },
        "id": "ZPgayKKWUZfO",
        "outputId": "a1434b38-bfc9-4a65-9e4d-de5a9767ff75"
      },
      "execution_count": 23,
      "outputs": [
        {
          "output_type": "stream",
          "name": "stderr",
          "text": [
            "/usr/local/lib/python3.7/dist-packages/transformers/optimization.py:309: FutureWarning: This implementation of AdamW is deprecated and will be removed in a future version. Use the PyTorch implementation torch.optim.AdamW instead, or set `no_deprecation_warning=True` to disable this warning\n",
            "  FutureWarning,\n"
          ]
        },
        {
          "output_type": "error",
          "ename": "RuntimeError",
          "evalue": "ignored",
          "traceback": [
            "\u001b[0;31m---------------------------------------------------------------------------\u001b[0m",
            "\u001b[0;31mRuntimeError\u001b[0m                              Traceback (most recent call last)",
            "\u001b[0;32m<ipython-input-23-c75f80c15df5>\u001b[0m in \u001b[0;36m<module>\u001b[0;34m()\u001b[0m\n\u001b[0;32m----> 1\u001b[0;31m \u001b[0mbert_model\u001b[0m\u001b[0;34m,\u001b[0m \u001b[0mtrain_acc_bert\u001b[0m\u001b[0;34m,\u001b[0m \u001b[0mval_acc_bert\u001b[0m\u001b[0;34m,\u001b[0m \u001b[0mtrain_loss_bert\u001b[0m\u001b[0;34m,\u001b[0m \u001b[0mval_loss_bert\u001b[0m \u001b[0;34m=\u001b[0m \u001b[0mtrain_bert\u001b[0m\u001b[0;34m(\u001b[0m\u001b[0mbertmodel\u001b[0m\u001b[0;34m)\u001b[0m\u001b[0;34m\u001b[0m\u001b[0;34m\u001b[0m\u001b[0m\n\u001b[0m",
            "\u001b[0;32m<ipython-input-15-95a0c09974ba>\u001b[0m in \u001b[0;36mtrain_bert\u001b[0;34m(model, train_loader, val_loader, learning_rate, num_epoch)\u001b[0m\n\u001b[1;32m     16\u001b[0m         \u001b[0;32mfor\u001b[0m \u001b[0mi\u001b[0m\u001b[0;34m,\u001b[0m \u001b[0;34m(\u001b[0m\u001b[0minput_id\u001b[0m\u001b[0;34m,\u001b[0m \u001b[0mattention_mask\u001b[0m\u001b[0;34m,\u001b[0m \u001b[0mlabels\u001b[0m\u001b[0;34m)\u001b[0m \u001b[0;32min\u001b[0m \u001b[0menumerate\u001b[0m\u001b[0;34m(\u001b[0m\u001b[0mtrain_loader\u001b[0m\u001b[0;34m)\u001b[0m\u001b[0;34m:\u001b[0m\u001b[0;34m\u001b[0m\u001b[0;34m\u001b[0m\u001b[0m\n\u001b[1;32m     17\u001b[0m             \u001b[0minput_id\u001b[0m\u001b[0;34m,\u001b[0m \u001b[0mattention_mask\u001b[0m\u001b[0;34m,\u001b[0m \u001b[0mlabels\u001b[0m \u001b[0;34m=\u001b[0m \u001b[0minput_id\u001b[0m\u001b[0;34m.\u001b[0m\u001b[0mto\u001b[0m\u001b[0;34m(\u001b[0m\u001b[0mdevice\u001b[0m\u001b[0;34m)\u001b[0m\u001b[0;34m,\u001b[0m \u001b[0mattention_mask\u001b[0m\u001b[0;34m.\u001b[0m\u001b[0mto\u001b[0m\u001b[0;34m(\u001b[0m\u001b[0mdevice\u001b[0m\u001b[0;34m)\u001b[0m\u001b[0;34m,\u001b[0m \u001b[0mlabels\u001b[0m\u001b[0;34m.\u001b[0m\u001b[0mto\u001b[0m\u001b[0;34m(\u001b[0m\u001b[0mdevice\u001b[0m\u001b[0;34m)\u001b[0m\u001b[0;34m\u001b[0m\u001b[0;34m\u001b[0m\u001b[0m\n\u001b[0;32m---> 18\u001b[0;31m             \u001b[0moutputs\u001b[0m \u001b[0;34m=\u001b[0m \u001b[0mmodel\u001b[0m\u001b[0;34m(\u001b[0m\u001b[0minput_ids\u001b[0m\u001b[0;34m=\u001b[0m\u001b[0minput_id\u001b[0m\u001b[0;34m,\u001b[0m \u001b[0mattention_mask\u001b[0m\u001b[0;34m=\u001b[0m\u001b[0mattention_mask\u001b[0m\u001b[0;34m)\u001b[0m\u001b[0;34m\u001b[0m\u001b[0;34m\u001b[0m\u001b[0m\n\u001b[0m\u001b[1;32m     19\u001b[0m             \u001b[0mmodel\u001b[0m\u001b[0;34m.\u001b[0m\u001b[0mzero_grad\u001b[0m\u001b[0;34m(\u001b[0m\u001b[0;34m)\u001b[0m\u001b[0;34m\u001b[0m\u001b[0;34m\u001b[0m\u001b[0m\n\u001b[1;32m     20\u001b[0m             \u001b[0mloss\u001b[0m \u001b[0;34m=\u001b[0m \u001b[0mloss_fn\u001b[0m\u001b[0;34m(\u001b[0m\u001b[0moutputs\u001b[0m\u001b[0;34m.\u001b[0m\u001b[0msqueeze\u001b[0m\u001b[0;34m(\u001b[0m\u001b[0;34m)\u001b[0m\u001b[0;34m,\u001b[0m \u001b[0mlabels\u001b[0m\u001b[0;34m)\u001b[0m\u001b[0;34m\u001b[0m\u001b[0;34m\u001b[0m\u001b[0m\n",
            "\u001b[0;32m/usr/local/lib/python3.7/dist-packages/torch/nn/modules/module.py\u001b[0m in \u001b[0;36m_call_impl\u001b[0;34m(self, *input, **kwargs)\u001b[0m\n\u001b[1;32m   1100\u001b[0m         if not (self._backward_hooks or self._forward_hooks or self._forward_pre_hooks or _global_backward_hooks\n\u001b[1;32m   1101\u001b[0m                 or _global_forward_hooks or _global_forward_pre_hooks):\n\u001b[0;32m-> 1102\u001b[0;31m             \u001b[0;32mreturn\u001b[0m \u001b[0mforward_call\u001b[0m\u001b[0;34m(\u001b[0m\u001b[0;34m*\u001b[0m\u001b[0minput\u001b[0m\u001b[0;34m,\u001b[0m \u001b[0;34m**\u001b[0m\u001b[0mkwargs\u001b[0m\u001b[0;34m)\u001b[0m\u001b[0;34m\u001b[0m\u001b[0;34m\u001b[0m\u001b[0m\n\u001b[0m\u001b[1;32m   1103\u001b[0m         \u001b[0;31m# Do not call functions when jit is used\u001b[0m\u001b[0;34m\u001b[0m\u001b[0;34m\u001b[0m\u001b[0;34m\u001b[0m\u001b[0m\n\u001b[1;32m   1104\u001b[0m         \u001b[0mfull_backward_hooks\u001b[0m\u001b[0;34m,\u001b[0m \u001b[0mnon_full_backward_hooks\u001b[0m \u001b[0;34m=\u001b[0m \u001b[0;34m[\u001b[0m\u001b[0;34m]\u001b[0m\u001b[0;34m,\u001b[0m \u001b[0;34m[\u001b[0m\u001b[0;34m]\u001b[0m\u001b[0;34m\u001b[0m\u001b[0;34m\u001b[0m\u001b[0m\n",
            "\u001b[0;32m/usr/local/lib/python3.7/dist-packages/transformers/models/bert/modeling_bert.py\u001b[0m in \u001b[0;36mforward\u001b[0;34m(self, input_ids, attention_mask, token_type_ids, position_ids, head_mask, inputs_embeds, encoder_hidden_states, encoder_attention_mask, past_key_values, use_cache, output_attentions, output_hidden_states, return_dict)\u001b[0m\n\u001b[1;32m    992\u001b[0m             \u001b[0mtoken_type_ids\u001b[0m\u001b[0;34m=\u001b[0m\u001b[0mtoken_type_ids\u001b[0m\u001b[0;34m,\u001b[0m\u001b[0;34m\u001b[0m\u001b[0;34m\u001b[0m\u001b[0m\n\u001b[1;32m    993\u001b[0m             \u001b[0minputs_embeds\u001b[0m\u001b[0;34m=\u001b[0m\u001b[0minputs_embeds\u001b[0m\u001b[0;34m,\u001b[0m\u001b[0;34m\u001b[0m\u001b[0;34m\u001b[0m\u001b[0m\n\u001b[0;32m--> 994\u001b[0;31m             \u001b[0mpast_key_values_length\u001b[0m\u001b[0;34m=\u001b[0m\u001b[0mpast_key_values_length\u001b[0m\u001b[0;34m,\u001b[0m\u001b[0;34m\u001b[0m\u001b[0;34m\u001b[0m\u001b[0m\n\u001b[0m\u001b[1;32m    995\u001b[0m         )\n\u001b[1;32m    996\u001b[0m         encoder_outputs = self.encoder(\n",
            "\u001b[0;32m/usr/local/lib/python3.7/dist-packages/torch/nn/modules/module.py\u001b[0m in \u001b[0;36m_call_impl\u001b[0;34m(self, *input, **kwargs)\u001b[0m\n\u001b[1;32m   1100\u001b[0m         if not (self._backward_hooks or self._forward_hooks or self._forward_pre_hooks or _global_backward_hooks\n\u001b[1;32m   1101\u001b[0m                 or _global_forward_hooks or _global_forward_pre_hooks):\n\u001b[0;32m-> 1102\u001b[0;31m             \u001b[0;32mreturn\u001b[0m \u001b[0mforward_call\u001b[0m\u001b[0;34m(\u001b[0m\u001b[0;34m*\u001b[0m\u001b[0minput\u001b[0m\u001b[0;34m,\u001b[0m \u001b[0;34m**\u001b[0m\u001b[0mkwargs\u001b[0m\u001b[0;34m)\u001b[0m\u001b[0;34m\u001b[0m\u001b[0;34m\u001b[0m\u001b[0m\n\u001b[0m\u001b[1;32m   1103\u001b[0m         \u001b[0;31m# Do not call functions when jit is used\u001b[0m\u001b[0;34m\u001b[0m\u001b[0;34m\u001b[0m\u001b[0;34m\u001b[0m\u001b[0m\n\u001b[1;32m   1104\u001b[0m         \u001b[0mfull_backward_hooks\u001b[0m\u001b[0;34m,\u001b[0m \u001b[0mnon_full_backward_hooks\u001b[0m \u001b[0;34m=\u001b[0m \u001b[0;34m[\u001b[0m\u001b[0;34m]\u001b[0m\u001b[0;34m,\u001b[0m \u001b[0;34m[\u001b[0m\u001b[0;34m]\u001b[0m\u001b[0;34m\u001b[0m\u001b[0;34m\u001b[0m\u001b[0m\n",
            "\u001b[0;32m/usr/local/lib/python3.7/dist-packages/transformers/models/bert/modeling_bert.py\u001b[0m in \u001b[0;36mforward\u001b[0;34m(self, input_ids, token_type_ids, position_ids, inputs_embeds, past_key_values_length)\u001b[0m\n\u001b[1;32m    212\u001b[0m \u001b[0;34m\u001b[0m\u001b[0m\n\u001b[1;32m    213\u001b[0m         \u001b[0;32mif\u001b[0m \u001b[0minputs_embeds\u001b[0m \u001b[0;32mis\u001b[0m \u001b[0;32mNone\u001b[0m\u001b[0;34m:\u001b[0m\u001b[0;34m\u001b[0m\u001b[0;34m\u001b[0m\u001b[0m\n\u001b[0;32m--> 214\u001b[0;31m             \u001b[0minputs_embeds\u001b[0m \u001b[0;34m=\u001b[0m \u001b[0mself\u001b[0m\u001b[0;34m.\u001b[0m\u001b[0mword_embeddings\u001b[0m\u001b[0;34m(\u001b[0m\u001b[0minput_ids\u001b[0m\u001b[0;34m)\u001b[0m\u001b[0;34m\u001b[0m\u001b[0;34m\u001b[0m\u001b[0m\n\u001b[0m\u001b[1;32m    215\u001b[0m         \u001b[0mtoken_type_embeddings\u001b[0m \u001b[0;34m=\u001b[0m \u001b[0mself\u001b[0m\u001b[0;34m.\u001b[0m\u001b[0mtoken_type_embeddings\u001b[0m\u001b[0;34m(\u001b[0m\u001b[0mtoken_type_ids\u001b[0m\u001b[0;34m)\u001b[0m\u001b[0;34m\u001b[0m\u001b[0;34m\u001b[0m\u001b[0m\n\u001b[1;32m    216\u001b[0m \u001b[0;34m\u001b[0m\u001b[0m\n",
            "\u001b[0;32m/usr/local/lib/python3.7/dist-packages/torch/nn/modules/module.py\u001b[0m in \u001b[0;36m_call_impl\u001b[0;34m(self, *input, **kwargs)\u001b[0m\n\u001b[1;32m   1100\u001b[0m         if not (self._backward_hooks or self._forward_hooks or self._forward_pre_hooks or _global_backward_hooks\n\u001b[1;32m   1101\u001b[0m                 or _global_forward_hooks or _global_forward_pre_hooks):\n\u001b[0;32m-> 1102\u001b[0;31m             \u001b[0;32mreturn\u001b[0m \u001b[0mforward_call\u001b[0m\u001b[0;34m(\u001b[0m\u001b[0;34m*\u001b[0m\u001b[0minput\u001b[0m\u001b[0;34m,\u001b[0m \u001b[0;34m**\u001b[0m\u001b[0mkwargs\u001b[0m\u001b[0;34m)\u001b[0m\u001b[0;34m\u001b[0m\u001b[0;34m\u001b[0m\u001b[0m\n\u001b[0m\u001b[1;32m   1103\u001b[0m         \u001b[0;31m# Do not call functions when jit is used\u001b[0m\u001b[0;34m\u001b[0m\u001b[0;34m\u001b[0m\u001b[0;34m\u001b[0m\u001b[0m\n\u001b[1;32m   1104\u001b[0m         \u001b[0mfull_backward_hooks\u001b[0m\u001b[0;34m,\u001b[0m \u001b[0mnon_full_backward_hooks\u001b[0m \u001b[0;34m=\u001b[0m \u001b[0;34m[\u001b[0m\u001b[0;34m]\u001b[0m\u001b[0;34m,\u001b[0m \u001b[0;34m[\u001b[0m\u001b[0;34m]\u001b[0m\u001b[0;34m\u001b[0m\u001b[0;34m\u001b[0m\u001b[0m\n",
            "\u001b[0;32m/usr/local/lib/python3.7/dist-packages/torch/nn/modules/sparse.py\u001b[0m in \u001b[0;36mforward\u001b[0;34m(self, input)\u001b[0m\n\u001b[1;32m    158\u001b[0m         return F.embedding(\n\u001b[1;32m    159\u001b[0m             \u001b[0minput\u001b[0m\u001b[0;34m,\u001b[0m \u001b[0mself\u001b[0m\u001b[0;34m.\u001b[0m\u001b[0mweight\u001b[0m\u001b[0;34m,\u001b[0m \u001b[0mself\u001b[0m\u001b[0;34m.\u001b[0m\u001b[0mpadding_idx\u001b[0m\u001b[0;34m,\u001b[0m \u001b[0mself\u001b[0m\u001b[0;34m.\u001b[0m\u001b[0mmax_norm\u001b[0m\u001b[0;34m,\u001b[0m\u001b[0;34m\u001b[0m\u001b[0;34m\u001b[0m\u001b[0m\n\u001b[0;32m--> 160\u001b[0;31m             self.norm_type, self.scale_grad_by_freq, self.sparse)\n\u001b[0m\u001b[1;32m    161\u001b[0m \u001b[0;34m\u001b[0m\u001b[0m\n\u001b[1;32m    162\u001b[0m     \u001b[0;32mdef\u001b[0m \u001b[0mextra_repr\u001b[0m\u001b[0;34m(\u001b[0m\u001b[0mself\u001b[0m\u001b[0;34m)\u001b[0m \u001b[0;34m->\u001b[0m \u001b[0mstr\u001b[0m\u001b[0;34m:\u001b[0m\u001b[0;34m\u001b[0m\u001b[0;34m\u001b[0m\u001b[0m\n",
            "\u001b[0;32m/usr/local/lib/python3.7/dist-packages/torch/nn/functional.py\u001b[0m in \u001b[0;36membedding\u001b[0;34m(input, weight, padding_idx, max_norm, norm_type, scale_grad_by_freq, sparse)\u001b[0m\n\u001b[1;32m   2042\u001b[0m         \u001b[0;31m# remove once script supports set_grad_enabled\u001b[0m\u001b[0;34m\u001b[0m\u001b[0;34m\u001b[0m\u001b[0;34m\u001b[0m\u001b[0m\n\u001b[1;32m   2043\u001b[0m         \u001b[0m_no_grad_embedding_renorm_\u001b[0m\u001b[0;34m(\u001b[0m\u001b[0mweight\u001b[0m\u001b[0;34m,\u001b[0m \u001b[0minput\u001b[0m\u001b[0;34m,\u001b[0m \u001b[0mmax_norm\u001b[0m\u001b[0;34m,\u001b[0m \u001b[0mnorm_type\u001b[0m\u001b[0;34m)\u001b[0m\u001b[0;34m\u001b[0m\u001b[0;34m\u001b[0m\u001b[0m\n\u001b[0;32m-> 2044\u001b[0;31m     \u001b[0;32mreturn\u001b[0m \u001b[0mtorch\u001b[0m\u001b[0;34m.\u001b[0m\u001b[0membedding\u001b[0m\u001b[0;34m(\u001b[0m\u001b[0mweight\u001b[0m\u001b[0;34m,\u001b[0m \u001b[0minput\u001b[0m\u001b[0;34m,\u001b[0m \u001b[0mpadding_idx\u001b[0m\u001b[0;34m,\u001b[0m \u001b[0mscale_grad_by_freq\u001b[0m\u001b[0;34m,\u001b[0m \u001b[0msparse\u001b[0m\u001b[0;34m)\u001b[0m\u001b[0;34m\u001b[0m\u001b[0;34m\u001b[0m\u001b[0m\n\u001b[0m\u001b[1;32m   2045\u001b[0m \u001b[0;34m\u001b[0m\u001b[0m\n\u001b[1;32m   2046\u001b[0m \u001b[0;34m\u001b[0m\u001b[0m\n",
            "\u001b[0;31mRuntimeError\u001b[0m: CUDA out of memory. Tried to allocate 48.00 MiB (GPU 0; 14.76 GiB total capacity; 13.22 GiB already allocated; 39.75 MiB free; 13.26 GiB reserved in total by PyTorch) If reserved memory is >> allocated memory try setting max_split_size_mb to avoid fragmentation.  See documentation for Memory Management and PYTORCH_CUDA_ALLOC_CONF"
          ]
        }
      ]
    },
    {
      "cell_type": "code",
      "source": [
        "evaluate(bertmodel)"
      ],
      "metadata": {
        "id": "ypdxhGuFx_rm"
      },
      "execution_count": null,
      "outputs": []
    },
    {
      "cell_type": "markdown",
      "metadata": {
        "id": "l09GuEXP_vg7"
      },
      "source": [
        "**3.7) (Bonus maximum 10 points)** List 5 examples on the test set that BERT misclassified. Describe reasons identified for misclassification."
      ]
    },
    {
      "cell_type": "markdown",
      "metadata": {
        "id": "gWarhI0w_vg7"
      },
      "source": [
        ""
      ]
    }
  ],
  "metadata": {
    "anaconda-cloud": {},
    "kernelspec": {
      "display_name": "Python 3 (ipykernel)",
      "language": "python",
      "name": "python3"
    },
    "language_info": {
      "codemirror_mode": {
        "name": "ipython",
        "version": 3
      },
      "file_extension": ".py",
      "mimetype": "text/x-python",
      "name": "python",
      "nbconvert_exporter": "python",
      "pygments_lexer": "ipython3",
      "version": "3.8.3"
    },
    "colab": {
      "name": "HW3.ipynb",
      "provenance": [],
      "collapsed_sections": []
    },
    "accelerator": "GPU"
  },
  "nbformat": 4,
  "nbformat_minor": 0
}